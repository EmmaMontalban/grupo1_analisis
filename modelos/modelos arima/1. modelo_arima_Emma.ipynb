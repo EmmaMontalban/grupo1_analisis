{
 "cells": [
  {
   "attachments": {},
   "cell_type": "markdown",
   "metadata": {},
   "source": [
    "# PASOS PARA REALIZAR UN MODELO ARIMA\n",
    "\n",
    "1. Preparación de datos:\n",
    "\n",
    "    * Tener un dataframe con una columna de fechas llamada 'FECHA' y la columna 'ICA' que deseas predecir.\n",
    "    * Asegurar de que la columna 'FECHA' esté en formato de fecha y tiempo.\n",
    "    * Establecer la columna 'FECHA' como índice del dataframe\n",
    "\n",
    "2. Comprobar si la serie es estacionaria:\n",
    "\n",
    "    * Visualización Análisis exploratorio de datos\n",
    "    * Comprobar\n",
    "\n",
    "3. División de datos:\n",
    " \n",
    "    * Dividir los datos en un conjunto de entrenamiento y un conjunto de prueba. por ej: Usar una parte de los datos existentes como entrenamiento y los últimos 15 días como prueba.\n",
    "        train_data = df[:-15]\n",
    "        test_data = df[-15:]\n",
    "\n",
    "4. Construcción del modelo ARIMA:\n",
    "\n",
    "    * Importa la biblioteca statsmodels para construir el modelo ARIMA\n",
    "        from statsmodels.tsa.arima.model import ARIMA\n",
    "    * Entrenar  el modelo ARIMA utilizando los datos de entrenamiento\n",
    "        model = ARIMA(train_data['ICA'], order=(p, d, q))  # Reemplazar p, d, q con los parámetros    adecuados para tu modelo ARIMA\n",
    "        model_fit = model.fit()\n",
    "\n",
    "5. Realización de la predicción:\n",
    "    \n",
    "    * Realizar la predicción para los próximos 15 días utilizando el modelo entrenado\n",
    "        prediction = model_fit.predict(start=len(train_data), end=len(train_data) + len(test_data) - 1)\n",
    "\n",
    "6. Visualización de la predicción:\n",
    "\n",
    "    * Crear un nuevo dataframe con la fecha y la predicción.\n",
    "        prediction_df = pd.DataFrame({'FECHA': test_data.index, 'Prediccion_ICA': prediction})\n",
    "        prediction_df.set_index('FECHA', inplace=True)\n",
    "    * Graficar los datos originales y la predicción en el mismo gráfico para visualizar los resultados\n",
    "        plt.figure(figsize=(15, 7))\n",
    "        plt.plot(train_data['ICA'], label='Datos de entrenamiento')\n",
    "        plt.plot(test_data['ICA'], label='Datos de prueba')\n",
    "        plt.plot(prediction_df['Prediccion_ICA'], label='Predicción')\n",
    "        plt.title('Predicción del ICA utilizando ARIMA')\n",
    "        plt.xlabel('Fecha')\n",
    "        plt.ylabel('ICA')\n",
    "        plt.legend()\n",
    "        plt.show()\n"
   ]
  },
  {
   "attachments": {},
   "cell_type": "markdown",
   "metadata": {},
   "source": [
    "## Importar librerías necesarias"
   ]
  },
  {
   "cell_type": "code",
   "execution_count": 2,
   "metadata": {},
   "outputs": [],
   "source": [
    "import numpy as np\n",
    "import pandas as pd\n",
    "\n",
    "from sklearn import metrics\n",
    "from math import sqrt\n",
    "\n",
    "import matplotlib\n",
    "import matplotlib.pyplot as plt\n",
    "%matplotlib inline\n",
    "\n",
    "import time\n",
    "import itertools\n",
    "import warnings\n",
    "import statsmodels.api as sm\n",
    "from statsmodels.tsa.stattools import adfuller\n",
    "from statsmodels.graphics.tsaplots import plot_acf, plot_pacf\n",
    "from statsmodels.tsa.seasonal import seasonal_decompose\n",
    "# from statsmodels.tsa.arima_model import ARIMA\n",
    "# from pmdarima import ARIMA\n",
    "\n",
    "warnings.filterwarnings(\"ignore\")"
   ]
  },
  {
   "attachments": {},
   "cell_type": "markdown",
   "metadata": {},
   "source": [
    "## 1. Preparación de los datos\n",
    "\n",
    "* Importar los datos\n",
    "* Asegurar que existe una columna 'FECHA' y una columna 'ICA'\n",
    "* Asegurar que la columna 'FECHA' tiene formato datetime\n",
    "* Establecer la fecha como índice del dataframe"
   ]
  },
  {
   "cell_type": "code",
   "execution_count": 3,
   "metadata": {},
   "outputs": [
    {
     "data": {
      "text/html": [
       "<div>\n",
       "<style scoped>\n",
       "    .dataframe tbody tr th:only-of-type {\n",
       "        vertical-align: middle;\n",
       "    }\n",
       "\n",
       "    .dataframe tbody tr th {\n",
       "        vertical-align: top;\n",
       "    }\n",
       "\n",
       "    .dataframe thead th {\n",
       "        text-align: right;\n",
       "    }\n",
       "</style>\n",
       "<table border=\"1\" class=\"dataframe\">\n",
       "  <thead>\n",
       "    <tr style=\"text-align: right;\">\n",
       "      <th></th>\n",
       "      <th>ICA</th>\n",
       "    </tr>\n",
       "    <tr>\n",
       "      <th>FECHA</th>\n",
       "      <th></th>\n",
       "    </tr>\n",
       "  </thead>\n",
       "  <tbody>\n",
       "    <tr>\n",
       "      <th>2019-01-01 05:00:00</th>\n",
       "      <td>45.22</td>\n",
       "    </tr>\n",
       "    <tr>\n",
       "      <th>2019-01-01 06:00:00</th>\n",
       "      <td>45.64</td>\n",
       "    </tr>\n",
       "  </tbody>\n",
       "</table>\n",
       "</div>"
      ],
      "text/plain": [
       "                       ICA\n",
       "FECHA                     \n",
       "2019-01-01 05:00:00  45.22\n",
       "2019-01-01 06:00:00  45.64"
      ]
     },
     "execution_count": 3,
     "metadata": {},
     "output_type": "execute_result"
    }
   ],
   "source": [
    "df = pd.read_csv('../../data/calidad_clean_outliers.csv', delimiter=',')\n",
    "df = df[['FECHA', 'ICA']]\n",
    "df[\"FECHA\"] = pd.to_datetime(df[\"FECHA\"], format=\"%Y-%m-%d %H:%M:%S\")\n",
    "df.set_index(\"FECHA\", inplace = True)\n",
    "df.dropna(inplace = True, axis = \"rows\")\n",
    "df.head(2)"
   ]
  },
  {
   "cell_type": "code",
   "execution_count": 4,
   "metadata": {},
   "outputs": [
    {
     "name": "stdout",
     "output_type": "stream",
     "text": [
      "<class 'pandas.core.frame.DataFrame'>\n",
      "DatetimeIndex: 30860 entries, 2019-01-01 05:00:00 to 2023-05-31 23:00:00\n",
      "Data columns (total 1 columns):\n",
      " #   Column  Non-Null Count  Dtype  \n",
      "---  ------  --------------  -----  \n",
      " 0   ICA     30860 non-null  float64\n",
      "dtypes: float64(1)\n",
      "memory usage: 482.2 KB\n"
     ]
    }
   ],
   "source": [
    "df.info()"
   ]
  },
  {
   "attachments": {},
   "cell_type": "markdown",
   "metadata": {},
   "source": [
    "## 2. Comprobar si la serie es estacionaria\n",
    "\n",
    "#### 2.1. Visualización: Análisis exploratorio de datos (EDA)"
   ]
  },
  {
   "cell_type": "code",
   "execution_count": 5,
   "metadata": {},
   "outputs": [
    {
     "data": {
      "image/png": "[encoded data removed]",
      "text/plain": [
       "<Figure size 1500x500 with 1 Axes>"
      ]
     },
     "metadata": {},
     "output_type": "display_data"
    }
   ],
   "source": [
    "# separar x y la y para el gráfico\n",
    "x = df.index\n",
    "\n",
    "y = df[\"ICA\"]\n",
    "y_media = [np.mean(y) for _ in y]\n",
    "\n",
    "# visualización de los datos anteriores a los largo de los años\n",
    "fig = plt.figure(figsize = (15, 5))\n",
    "ax = fig.subplots(1, 1)\n",
    "\n",
    "# la serie original parece ser estacionaria si nos fijamos en su comportamiento, ya que la media es la misma en \n",
    "# tramos diferentes de la serie.\n",
    "ax.plot(x, y, label = \"Serie Original\")\n",
    "ax.plot(x, y_media, label = \"Media de la Serie Original\")\n",
    "ax.set_ylim(0, np.max(y)*1.3)\n",
    "ax.legend(loc = \"upper left\")\n",
    "fig.suptitle(\"Medición del Indice de Calidad del Aire y su evolución a lo largo de los años\");"
   ]
  },
  {
   "attachments": {},
   "cell_type": "markdown",
   "metadata": {},
   "source": [
    "#### 2.2. Prueba estadística ADF: Comprobación de la estacionaridad de la serie \n",
    "\n",
    "* El objetivo de la prueba ADF es evaluar la presencia de una raíz unitaria en una serie temporal, lo que indica la presencia de tendencia y no  \n",
    "  estacionariedad.\n",
    "\n",
    "* La hipótesis nula (H0) de la prueba ADF es que la serie temporal tiene una raíz unitaria, lo que significa que es no estacionaria. \n",
    "\n",
    "* La hipótesis alternativa (H1) es que la serie no tiene una raíz unitaria y, por lo tanto, es estacionaria.\n",
    "\n",
    "* El estadístico ADF se calcula comparando la tasa de cambio en los valores de la serie temporal con su propia variación aleatoria:\n",
    "  - Si el estadístico ADF es menor que el valor crítico (umbral), se rechaza la hipótesis nula y se concluye que la serie es estacionaria. \n",
    "  - Si el estadístico ADF es mayor que el valor crítico, no se puede rechazar la hipótesis nula y se concluye que la serie es no estacionaria."
   ]
  },
  {
   "cell_type": "code",
   "execution_count": 6,
   "metadata": {},
   "outputs": [
    {
     "name": "stdout",
     "output_type": "stream",
     "text": [
      "------------------------------------------------------------------\n",
      "Estamos trabajando con la serie Serie Original\n",
      "\n",
      "Valor estadistico de ADF de las tablas precalculadas: -2.89\n",
      "Valor estadistico de ADF: -13.69138297075373\n",
      "\n",
      "Nivel de significación para tomar la serie como estacionaria 0.05\n",
      "p-valor: 1.341913606188679e-25\n",
      "\n"
     ]
    }
   ],
   "source": [
    "for serie, nombre_serie in zip([y], [\"Serie Original\"]):    \n",
    "    resultado_analisis = adfuller(serie)\n",
    "    \n",
    "    valor_estadistico_adf = resultado_analisis[0]\n",
    "    p_valor = resultado_analisis[1]\n",
    "    \n",
    "    print(\"Valor estadístico de ADF: {}\".format(-2.89))\n",
    "    print(\"Valor Crítico: {}\\n\".format(valor_estadistico_adf))\n",
    "    \n",
    "    print(\"Nivel de significación: {}\".format(0.05))\n",
    "    print(\"p-valor: {}\\n\".format(p_valor))"
   ]
  },
  {
   "attachments": {},
   "cell_type": "markdown",
   "metadata": {},
   "source": [
    "* ADF: Decisión a partir del resultado obtenido:\n",
    "\n",
    " 1. Observamos p-valor < nivel significación, es decir, el estadístico ADF es menor que el valor crítico. \n",
    " 2. Por tanto, rechazamos la hipótesis nula (H0). \n",
    " 3. Conclusión:\n",
    "    * LA SERIE ES ESTACIONARIA"
   ]
  },
  {
   "attachments": {},
   "cell_type": "markdown",
   "metadata": {},
   "source": [
    "#### 2.3.  Analizar autocorrelación y autocorrelación parcial\n",
    "\n",
    "* LAGS: Desfases o rezagos en una serie temporal. Representan la diferencia de tiempo entre una observación y otra. \n",
    "  Por ejemplo, un lag de 1 indica la correlación entre una observación y la observación inmediatamente anterior.\n",
    "\n",
    "* ACF (Autocorrelación): La función de autocorrelación (ACF, por sus siglas en inglés) es una medida de la correlación entre una observación \n",
    "  y sus valores rezagados a diferentes intervalos de tiempo. Representa cómo se correlaciona una serie consigo misma a medida que se desplaza en el tiempo. La ACF se utiliza para identificar patrones de correlación en una serie temporal.\n",
    "\n",
    "* PACF (Autocorrelación parcial): La función de autocorrelación parcial (PACF, por sus siglas en inglés) mide la correlación directa entre una \n",
    "  observación y sus valores rezagados, eliminando la influencia de los valores intermedios. La PACF ayuda a determinar la correlación directa entre una observación y su rezago específico, ignorando las correlaciones indirectas."
   ]
  },
  {
   "cell_type": "code",
   "execution_count": 9,
   "metadata": {},
   "outputs": [
    {
     "data": {
      "image/png": "[encoded data removed]",
      "text/plain": [
       "<Figure size 1500x300 with 2 Axes>"
      ]
     },
     "metadata": {},
     "output_type": "display_data"
    }
   ],
   "source": [
    "LAGS = 24\n",
    "\n",
    "fig = plt.figure(figsize = (15, 3))\n",
    "(ax1, ax2) = fig.subplots(1, 2)\n",
    "\n",
    "# Gráfico de ACF(autocorrelación) y PACF(Autocorrelación Parcial)\n",
    "plot_acf(y, ax = ax1, lags = LAGS, title = \"Autocorrelación\")\n",
    "plot_pacf(y, ax = ax2, lags = LAGS, title = \"Autocorrelación Parcial\")\n",
    "\n",
    "fig.tight_layout()"
   ]
  },
  {
   "attachments": {},
   "cell_type": "markdown",
   "metadata": {},
   "source": [
    "## 3. División de datos\n",
    "\n",
    "    * train: Entrenamiento\n",
    "    * test: Prueba"
   ]
  },
  {
   "cell_type": "code",
   "execution_count": 10,
   "metadata": {},
   "outputs": [
    {
     "name": "stdout",
     "output_type": "stream",
     "text": [
      "                       ICA\n",
      "FECHA                     \n",
      "2019-01-01 05:00:00  45.22\n",
      "2019-01-01 06:00:00  45.64\n",
      "2019-01-01 07:00:00  47.94\n",
      "2019-01-01 08:00:00  47.78\n",
      "2019-01-01 09:00:00  45.88\n",
      "                       ICA\n",
      "FECHA                     \n",
      "2023-04-29 08:00:00  52.91\n",
      "2023-04-29 10:00:00  48.99\n",
      "2023-04-29 12:00:00  53.45\n",
      "2023-04-29 15:00:00  36.53\n",
      "2023-04-29 16:00:00  30.70\n"
     ]
    }
   ],
   "source": [
    "serie_a_predecir = y\n",
    "\n",
    "# Predecir valor del ICA en los próximos 30 días\n",
    "y_train = df[:-720]\n",
    "y_test = df[-720:]\n",
    "\n",
    "print(y_train.head())\n",
    "print(y_test.head())"
   ]
  },
  {
   "attachments": {},
   "cell_type": "markdown",
   "metadata": {},
   "source": [
    "## 4.  Construcción de Modelo ARIMA\n",
    "\n",
    "Un modelo ARIMA se repsenta como ARIMA (p, d, q) donde:\n",
    "\n",
    "* AR (p): representa la parte \"Autorregresiva\" del modelo. La intuición básica consiste en que los valores pasados más próximos al momento \"t\", \n",
    "  tendrán mayor impacto en los valores presentes. Para determinar el orden \"p\" del modelo, podemos utilizar el plot de autocorrelación parcial\n",
    "\n",
    "* I (d): representa la parte \"Integral\" del modelo y este parámetro del modelo nos dice cuantos diferenciaciones (restas de la serie contra si \n",
    "  misma) se tienen que llevar a cabo para convertir la serie en estacionaria.\n",
    "\n",
    "* MA (q): representa la parte de \"Medias Móviles\". Como vimos, esto implica que el error del modelo se establece como una combinaciòn lineal de \n",
    "  los errores observados en el pasado. Para determinar el orden \"q\" del modelo, podemos utilizar el plot de autocorrelación.\n",
    "\n",
    "El modelo básico de ARIMA se puede extender más allá incorporando la estacionalidad de la serie y variables exógenas. En este caso estaríamos hablado del modelo SARIMAX representado por (p, d, q) x (P, D, Q) S: donde los parámetros (P, D, Q) representan la misma idea que los (p, d, q) pero tratan sobre la parte estacional de la serie.\n",
    "\n",
    "El parámetro S a su vez representa el número de periodos que tienen que pasar para que la estacionalidad se repita: 12 para meses, 4 para trimestres etc."
   ]
  },
  {
   "cell_type": "code",
   "execution_count": 11,
   "metadata": {},
   "outputs": [
    {
     "name": "stdout",
     "output_type": "stream",
     "text": [
      "Examples of parameter combinations for Seasonal ARIMA...\n",
      "SARIMAX: (0, 0, 1) x (0, 0, 0, 0)\n",
      "SARIMAX: (0, 1, 0) x (0, 0, 0, 0)\n"
     ]
    }
   ],
   "source": [
    "p = d = q = range(0, 3)\n",
    "pdq = list(itertools.product(p, d, q))\n",
    "\n",
    "# En caso de querer probar un modelo SARIMAX completo, ejecutar la siguiente línea de itertools.\n",
    "# seasonal_pdq = [(x[0], x[1], x[2], 12) for x in list(itertools.product(p, d, q))]\n",
    "\n",
    "# Los dejamos a cero para sólo analizar un modelo ARIMA.\n",
    "seasonal_pdq = [(0, 0, 0, 0)]\n",
    "\n",
    "print('Examples of parameter combinations for Seasonal ARIMA...')\n",
    "print('SARIMAX: {} x {}'.format(pdq[1], seasonal_pdq[0]))\n",
    "print('SARIMAX: {} x {}'.format(pdq[3], seasonal_pdq[0]))"
   ]
  },
  {
   "attachments": {},
   "cell_type": "markdown",
   "metadata": {},
   "source": [
    "#### 4.1 Gridsearch: Búsqueda de los parámetros óptimos para el modelo ARIMA\n",
    "\n",
    "A continuación utilizaremos una \"Gridsearch\" básico para buscar los parámetros óptimos del modelo ARIMA.\n",
    "\n",
    "* Para hacer el gridsearch, hay que calcular los posibles valores que vamos a pasarle al modelo.\n",
    "\n",
    "* Utilizamos el modelo SARIMAX, porque en su implementaciòn en Python existen herramientas adicionales  que facilitan el análisis y que\n",
    "  no están disponibles en la implementación de ARIMA.\n",
    "\n",
    "* ARIMAX es un modelo ARIMA pero con un componente estacional (la leta S de Seasonal) y también un componente exógeno (X de eXogenous \n",
    "  regressors). Por tanto un modelo SARIMAX de (1, 1, 1) x (0, 0, 0, 0). Es un modelo ARIMA (1, 1, 1)   "
   ]
  },
  {
   "cell_type": "code",
   "execution_count": 12,
   "metadata": {},
   "outputs": [
    {
     "name": "stdout",
     "output_type": "stream",
     "text": [
      "ARIMA(0, 0, 0)x(0, 0, 0, 0)4 - AIC:309632.4481532627\n",
      "ARIMA(0, 0, 1)x(0, 0, 0, 0)4 - AIC:273382.7987539612\n",
      "ARIMA(0, 0, 2)x(0, 0, 0, 0)4 - AIC:249138.068450773\n",
      "ARIMA(0, 1, 0)x(0, 0, 0, 0)4 - AIC:195355.4389742506\n",
      "ARIMA(0, 1, 1)x(0, 0, 0, 0)4 - AIC:195130.70527137574\n",
      "ARIMA(0, 1, 2)x(0, 0, 0, 0)4 - AIC:195009.84584482445\n",
      "ARIMA(0, 2, 0)x(0, 0, 0, 0)4 - AIC:213733.80713331906\n",
      "ARIMA(0, 2, 1)x(0, 0, 0, 0)4 - AIC:195355.60960810797\n",
      "ARIMA(0, 2, 2)x(0, 0, 0, 0)4 - AIC:195130.82199415355\n",
      "ARIMA(1, 0, 0)x(0, 0, 0, 0)4 - AIC:195192.11277517665\n",
      "ARIMA(1, 0, 1)x(0, 0, 0, 0)4 - AIC:194935.67107664328\n",
      "ARIMA(1, 0, 2)x(0, 0, 0, 0)4 - AIC:194845.18105543125\n",
      "ARIMA(1, 1, 0)x(0, 0, 0, 0)4 - AIC:195165.03989751014\n",
      "ARIMA(1, 1, 1)x(0, 0, 0, 0)4 - AIC:195092.84593508893\n",
      "ARIMA(1, 1, 2)x(0, 0, 0, 0)4 - AIC:191929.16046793817\n",
      "ARIMA(1, 2, 0)x(0, 0, 0, 0)4 - AIC:207915.30173928896\n",
      "ARIMA(1, 2, 1)x(0, 0, 0, 0)4 - AIC:195165.61326479015\n",
      "ARIMA(1, 2, 2)x(0, 0, 0, 0)4 - AIC:195119.593996101\n",
      "ARIMA(2, 0, 0)x(0, 0, 0, 0)4 - AIC:194965.41556945042\n",
      "ARIMA(2, 0, 1)x(0, 0, 0, 0)4 - AIC:194905.67657133247\n",
      "ARIMA(2, 0, 2)x(0, 0, 0, 0)4 - AIC:193264.15331727796\n",
      "ARIMA(2, 1, 0)x(0, 0, 0, 0)4 - AIC:194986.82834843456\n",
      "ARIMA(2, 1, 1)x(0, 0, 0, 0)4 - AIC:191810.2156207707\n",
      "ARIMA(2, 1, 2)x(0, 0, 0, 0)4 - AIC:191685.9841308316\n",
      "ARIMA(2, 2, 0)x(0, 0, 0, 0)4 - AIC:205223.40113181237\n",
      "ARIMA(2, 2, 1)x(0, 0, 0, 0)4 - AIC:194993.62611994275\n",
      "ARIMA(2, 2, 2)x(0, 0, 0, 0)4 - AIC:191828.00704274562\n",
      "La búsqueda de parámetros no ha llevado 1.1445070862770081 minutos!\n"
     ]
    }
   ],
   "source": [
    "st = time.time()\n",
    "\n",
    "best_score = 0\n",
    "best_params = None\n",
    "best_seasonal_params = None\n",
    "\n",
    "for param in pdq:\n",
    "    for param_seasonal in seasonal_pdq:\n",
    "        try:\n",
    "            \n",
    "            mod = sm.tsa.statespace.SARIMAX(y_train,\n",
    "                                            order=param,\n",
    "                                            seasonal_order=param_seasonal,\n",
    "                                            enforce_stationarity = False,\n",
    "                                            enforce_invertibility = False)\n",
    "\n",
    "            results = mod.fit()\n",
    "\n",
    "            print('ARIMA{}x{}12 - AIC:{}'.format(param, param_seasonal, results.aic))\n",
    "            \n",
    "            # guardamos el mejor resultado\n",
    "            if best_score == 0:\n",
    "                best_score = results.aic\n",
    "                best_params = param\n",
    "                best_seasonal_params = param_seasonal\n",
    "                \n",
    "            elif abs(results.aic) < abs(best_score):\n",
    "                    best_score = results.aic\n",
    "                    best_params = param\n",
    "                    best_seasonal_params = param_seasonal\n",
    "            \n",
    "        # alguna combinación de parámetros en SARIMAX, no son válidos\n",
    "        # y los vamos a cazar con un except\n",
    "        except:\n",
    "            continue\n",
    "\n",
    "et = time.time()\n",
    "\n",
    "print(\"La búsqueda de parámetros no ha llevado {} minutos!\".format((et - st)/60))"
   ]
  },
  {
   "attachments": {},
   "cell_type": "markdown",
   "metadata": {},
   "source": [
    "#### 4.2 Elección del mejor modelo ARIMA:\n",
    "\n",
    "* El índice de AIC es Akaike Information Criterion y sirve para elegir un modelo entre un conjunto de posibles modelos.\n",
    "\n",
    "* El índice calcula la distancia de Kullback - Leibler entre el modelo y la serie.\n",
    "\n",
    "* Una forma de interpretar el índice es: buscamos el modelo con el menor índice porque este es el más simple que se ajusta a los datos."
   ]
  },
  {
   "cell_type": "code",
   "execution_count": 13,
   "metadata": {},
   "outputs": [
    {
     "name": "stdout",
     "output_type": "stream",
     "text": [
      "El mejor modelo es (2, 1, 2), \n",
      "Con un AIC de 191685.9841308316\n"
     ]
    }
   ],
   "source": [
    "print(\"El mejor modelo es {}, \\nCon un AIC de {}\".format(best_params, best_score))"
   ]
  },
  {
   "attachments": {},
   "cell_type": "markdown",
   "metadata": {},
   "source": [
    "#### 4.3 Entrenamiento del modelo ARIMA"
   ]
  },
  {
   "cell_type": "code",
   "execution_count": 15,
   "metadata": {},
   "outputs": [],
   "source": [
    "# Entrenamos el modelo con los mejores parametros.\n",
    "\n",
    "model = sm.tsa.statespace.SARIMAX(y_train,\n",
    "                                order = best_params,\n",
    "                                seasonal_order = param_seasonal,\n",
    "                                enforce_stationarity = False,\n",
    "                                enforce_invertibility = False)\n",
    "\n",
    "results = model.fit()"
   ]
  },
  {
   "attachments": {},
   "cell_type": "markdown",
   "metadata": {},
   "source": [
    "## Interpretación del mejor modelo"
   ]
  },
  {
   "cell_type": "code",
   "execution_count": 16,
   "metadata": {},
   "outputs": [
    {
     "name": "stdout",
     "output_type": "stream",
     "text": [
      "==============================================================================\n",
      "                 coef    std err          z      P>|z|      [0.025      0.975]\n",
      "------------------------------------------------------------------------------\n",
      "ar.L1          1.3465      0.020     68.439      0.000       1.308       1.385\n",
      "ar.L2         -0.5111      0.016    -32.085      0.000      -0.542      -0.480\n",
      "ma.L1         -1.3776      0.021    -66.288      0.000      -1.418      -1.337\n",
      "ma.L2          0.3991      0.020     19.544      0.000       0.359       0.439\n",
      "sigma2        33.8653      0.177    190.860      0.000      33.518      34.213\n",
      "==============================================================================\n"
     ]
    }
   ],
   "source": [
    "results = model.fit()\n",
    "\n",
    "print(results.summary().tables[1])"
   ]
  },
  {
   "cell_type": "code",
   "execution_count": null,
   "metadata": {},
   "outputs": [],
   "source": [
    "results.plot_diagnostics(figsize = (15, 12), lags = 3);"
   ]
  },
  {
   "attachments": {},
   "cell_type": "markdown",
   "metadata": {},
   "source": [
    "Interprentado los gráficos podemos observar lo siguiente:\n",
    "\n",
    "    Arriba a la izquiera: los residuos del modelo parece que siguen un proceso de Ruido Blanco (White Noise) y no son predecibles. Esto implica que nuestro modelo ha extraído toda la información de los datos.\n",
    "    Arriba a la derecha: vemos que la distribución de los residuos sigue una distribución próxima a la Normal (0, 1).\n",
    "    Abajo a la derecha: vemos que la autocorrelación parcial entre los residuos y residuos - k, dan lugar a valores no significativos. Esto implica que no \"nos queda\" información a extraer de los residuos, es decir el modelo no ha sido capaz de reproducir el patrón de comportamiento sistemático de la serie y habría que reformularlo.\n",
    "    Abajo a la izquierda: la distrbución ordenada de los residuos sigue una Normal."
   ]
  },
  {
   "attachments": {},
   "cell_type": "markdown",
   "metadata": {},
   "source": [
    "## Predicción utilizando el modelo"
   ]
  },
  {
   "cell_type": "code",
   "execution_count": null,
   "metadata": {},
   "outputs": [],
   "source": [
    "prediction = results.predict(start=len(df), end=len(df) + 359)"
   ]
  },
  {
   "cell_type": "code",
   "execution_count": null,
   "metadata": {},
   "outputs": [],
   "source": [
    "prediction_index = pd.date_range(start=df.index[-1], periods=360, freq='H')  # Ajusta la frecuencia 'H' según tus datos"
   ]
  },
  {
   "cell_type": "code",
   "execution_count": null,
   "metadata": {},
   "outputs": [],
   "source": [
    "prediction_df = pd.DataFrame({'FECHA': prediction_index, 'Prediccion_ICA': prediction})\n",
    "prediction_df.set_index('FECHA', inplace=True)\n"
   ]
  },
  {
   "cell_type": "code",
   "execution_count": null,
   "metadata": {},
   "outputs": [],
   "source": [
    "plt.figure(figsize=(15, 7))\n",
    "plt.plot(df['ICA'], label='Datos originales')\n",
    "plt.plot(prediction_df['Prediccion_ICA'], label='Predicción')\n",
    "plt.title('Predicción del ICA utilizando ARIMA')\n",
    "plt.xlabel('Fecha')\n",
    "plt.ylabel('ICA')\n",
    "plt.legend()\n",
    "plt.show()\n"
   ]
  },
  {
   "cell_type": "code",
   "execution_count": null,
   "metadata": {},
   "outputs": [],
   "source": [
    "# Para hacer una predicción es suficiente con especificar el número de steps/pasos futuros a estimar.\n",
    "pred_uc = results.get_forecast(steps = len(y_test))\n",
    "\n",
    "# Calcula el intervalo de confianza de la predicción.\n",
    "pred_ci = pred_uc.conf_int()"
   ]
  },
  {
   "cell_type": "code",
   "execution_count": null,
   "metadata": {},
   "outputs": [],
   "source": [
    "ax = serie_a_predecir.plot(label = 'Valores reales', figsize = (20, 15))\n",
    "\n",
    "pred_uc.predicted_mean.plot(ax = ax, label = 'Predicción')\n",
    "\n",
    "ax.fill_between(pred_ci.index,\n",
    "                pred_ci.iloc[:, 0],\n",
    "                pred_ci.iloc[:, 1], color = 'k', alpha = .25)\n",
    "\n",
    "ax.set_xlabel('Año')\n",
    "ax.set_ylabel('Pieles Capturadas')\n",
    "\n",
    "# Limitar el gráfico al año 2024\n",
    "ax.set_xlim(pd.Timestamp('2023-01-01'), pd.Timestamp('2023-05-31'))\n",
    "\n",
    "plt.legend()\n",
    "plt.show()"
   ]
  },
  {
   "cell_type": "code",
   "execution_count": null,
   "metadata": {},
   "outputs": [],
   "source": [
    "y_pred = pred_ci.iloc[:, 0]"
   ]
  },
  {
   "cell_type": "code",
   "execution_count": null,
   "metadata": {},
   "outputs": [],
   "source": [
    "# El RMSE es de 2.52\n",
    "rmse = sqrt(metrics.mean_squared_error(y_test, y_pred))\n",
    "\n",
    "print(\"El modelo ARIMA con los parametros {}, ha dado un rmse en test de {}\".format(best_params, round(rmse, 2)))"
   ]
  }
 ],
 "metadata": {
  "kernelspec": {
   "display_name": "Python 3",
   "language": "python",
   "name": "python3"
  },
  "language_info": {
   "codemirror_mode": {
    "name": "ipython",
    "version": 3
   },
   "file_extension": ".py",
   "mimetype": "text/x-python",
   "name": "python",
   "nbconvert_exporter": "python",
   "pygments_lexer": "ipython3",
   "version": "3.10.11"
  },
  "orig_nbformat": 4
 },
 "nbformat": 4,
 "nbformat_minor": 2
}
