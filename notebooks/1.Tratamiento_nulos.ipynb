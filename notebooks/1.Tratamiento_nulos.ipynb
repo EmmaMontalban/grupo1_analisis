{
 "cells": [
  {
   "attachments": {},
   "cell_type": "markdown",
   "metadata": {},
   "source": [
    "# Tratamiento de Valores Nulos"
   ]
  },
  {
   "attachments": {},
   "cell_type": "markdown",
   "metadata": {},
   "source": [
    "### Importar Librerías"
   ]
  },
  {
   "cell_type": "code",
   "execution_count": 1,
   "metadata": {},
   "outputs": [],
   "source": [
    "import numpy as np\n",
    "import pandas as pd\n",
    "import seaborn as sns\n",
    "import matplotlib.pyplot as plt"
   ]
  },
  {
   "attachments": {},
   "cell_type": "markdown",
   "metadata": {},
   "source": [
    "### Importar los datos"
   ]
  },
  {
   "cell_type": "code",
   "execution_count": 2,
   "metadata": {},
   "outputs": [
    {
     "data": {
      "text/html": [
       "<div>\n",
       "<style scoped>\n",
       "    .dataframe tbody tr th:only-of-type {\n",
       "        vertical-align: middle;\n",
       "    }\n",
       "\n",
       "    .dataframe tbody tr th {\n",
       "        vertical-align: top;\n",
       "    }\n",
       "\n",
       "    .dataframe thead th {\n",
       "        text-align: right;\n",
       "    }\n",
       "</style>\n",
       "<table border=\"1\" class=\"dataframe\">\n",
       "  <thead>\n",
       "    <tr style=\"text-align: right;\">\n",
       "      <th></th>\n",
       "      <th>ANO</th>\n",
       "      <th>MES</th>\n",
       "      <th>DIA</th>\n",
       "      <th>HORA</th>\n",
       "      <th>DIA_SEMANA</th>\n",
       "      <th>ESTACION</th>\n",
       "      <th>SO2</th>\n",
       "      <th>CO</th>\n",
       "      <th>NO2</th>\n",
       "      <th>PM2.5</th>\n",
       "      <th>PM10</th>\n",
       "      <th>O3</th>\n",
       "      <th>BTX</th>\n",
       "      <th>TEMPERATURA</th>\n",
       "      <th>HUMEDAD</th>\n",
       "    </tr>\n",
       "    <tr>\n",
       "      <th>FECHA</th>\n",
       "      <th></th>\n",
       "      <th></th>\n",
       "      <th></th>\n",
       "      <th></th>\n",
       "      <th></th>\n",
       "      <th></th>\n",
       "      <th></th>\n",
       "      <th></th>\n",
       "      <th></th>\n",
       "      <th></th>\n",
       "      <th></th>\n",
       "      <th></th>\n",
       "      <th></th>\n",
       "      <th></th>\n",
       "      <th></th>\n",
       "    </tr>\n",
       "  </thead>\n",
       "  <tbody>\n",
       "    <tr>\n",
       "      <th>2019-01-01 00:00:00</th>\n",
       "      <td>2019.0</td>\n",
       "      <td>1.0</td>\n",
       "      <td>1.0</td>\n",
       "      <td>0</td>\n",
       "      <td>Martes</td>\n",
       "      <td>8.0</td>\n",
       "      <td>13.0</td>\n",
       "      <td>0.7</td>\n",
       "      <td>79.0</td>\n",
       "      <td>24.0</td>\n",
       "      <td>32.0</td>\n",
       "      <td>3.84</td>\n",
       "      <td>6.4</td>\n",
       "      <td>6.9</td>\n",
       "      <td>50.0</td>\n",
       "    </tr>\n",
       "    <tr>\n",
       "      <th>2019-01-01 01:00:00</th>\n",
       "      <td>2019.0</td>\n",
       "      <td>1.0</td>\n",
       "      <td>1.0</td>\n",
       "      <td>1</td>\n",
       "      <td>Martes</td>\n",
       "      <td>8.0</td>\n",
       "      <td>13.0</td>\n",
       "      <td>0.6</td>\n",
       "      <td>76.0</td>\n",
       "      <td>33.0</td>\n",
       "      <td>105.0</td>\n",
       "      <td>3.61</td>\n",
       "      <td>4.9</td>\n",
       "      <td>6.7</td>\n",
       "      <td>48.0</td>\n",
       "    </tr>\n",
       "    <tr>\n",
       "      <th>2019-01-01 02:00:00</th>\n",
       "      <td>2019.0</td>\n",
       "      <td>1.0</td>\n",
       "      <td>1.0</td>\n",
       "      <td>2</td>\n",
       "      <td>Martes</td>\n",
       "      <td>8.0</td>\n",
       "      <td>12.0</td>\n",
       "      <td>0.6</td>\n",
       "      <td>85.0</td>\n",
       "      <td>34.0</td>\n",
       "      <td>91.0</td>\n",
       "      <td>3.73</td>\n",
       "      <td>5.2</td>\n",
       "      <td>6.1</td>\n",
       "      <td>51.0</td>\n",
       "    </tr>\n",
       "    <tr>\n",
       "      <th>2019-01-01 03:00:00</th>\n",
       "      <td>2019.0</td>\n",
       "      <td>1.0</td>\n",
       "      <td>1.0</td>\n",
       "      <td>3</td>\n",
       "      <td>Martes</td>\n",
       "      <td>8.0</td>\n",
       "      <td>10.0</td>\n",
       "      <td>0.6</td>\n",
       "      <td>81.0</td>\n",
       "      <td>29.0</td>\n",
       "      <td>43.0</td>\n",
       "      <td>3.64</td>\n",
       "      <td>5.0</td>\n",
       "      <td>4.4</td>\n",
       "      <td>56.0</td>\n",
       "    </tr>\n",
       "    <tr>\n",
       "      <th>2019-01-01 04:00:00</th>\n",
       "      <td>2019.0</td>\n",
       "      <td>1.0</td>\n",
       "      <td>1.0</td>\n",
       "      <td>4</td>\n",
       "      <td>Martes</td>\n",
       "      <td>8.0</td>\n",
       "      <td>9.0</td>\n",
       "      <td>0.5</td>\n",
       "      <td>68.0</td>\n",
       "      <td>23.0</td>\n",
       "      <td>31.0</td>\n",
       "      <td>5.28</td>\n",
       "      <td>3.8</td>\n",
       "      <td>4.9</td>\n",
       "      <td>51.0</td>\n",
       "    </tr>\n",
       "  </tbody>\n",
       "</table>\n",
       "</div>"
      ],
      "text/plain": [
       "                        ANO  MES  DIA  HORA DIA_SEMANA  ESTACION   SO2   CO  \\\n",
       "FECHA                                                                         \n",
       "2019-01-01 00:00:00  2019.0  1.0  1.0     0     Martes       8.0  13.0  0.7   \n",
       "2019-01-01 01:00:00  2019.0  1.0  1.0     1     Martes       8.0  13.0  0.6   \n",
       "2019-01-01 02:00:00  2019.0  1.0  1.0     2     Martes       8.0  12.0  0.6   \n",
       "2019-01-01 03:00:00  2019.0  1.0  1.0     3     Martes       8.0  10.0  0.6   \n",
       "2019-01-01 04:00:00  2019.0  1.0  1.0     4     Martes       8.0   9.0  0.5   \n",
       "\n",
       "                      NO2  PM2.5   PM10    O3  BTX  TEMPERATURA  HUMEDAD  \n",
       "FECHA                                                                     \n",
       "2019-01-01 00:00:00  79.0   24.0   32.0  3.84  6.4          6.9     50.0  \n",
       "2019-01-01 01:00:00  76.0   33.0  105.0  3.61  4.9          6.7     48.0  \n",
       "2019-01-01 02:00:00  85.0   34.0   91.0  3.73  5.2          6.1     51.0  \n",
       "2019-01-01 03:00:00  81.0   29.0   43.0  3.64  5.0          4.4     56.0  \n",
       "2019-01-01 04:00:00  68.0   23.0   31.0  5.28  3.8          4.9     51.0  "
      ]
     },
     "execution_count": 2,
     "metadata": {},
     "output_type": "execute_result"
    }
   ],
   "source": [
    "ruta = '../data/calidad_aire_2022.csv'\n",
    "ruta_nuevoCSV = '../data/calidad_aire_2022_clean_nulos.csv'\n",
    "data = pd.read_csv(ruta, delimiter=',', engine='python', index_col=0)\n",
    "data.head()"
   ]
  },
  {
   "attachments": {},
   "cell_type": "markdown",
   "metadata": {},
   "source": [
    "#### Cantidad de Registros Importados"
   ]
  },
  {
   "cell_type": "code",
   "execution_count": 3,
   "metadata": {},
   "outputs": [
    {
     "data": {
      "text/plain": [
       "(30240, 15)"
      ]
     },
     "execution_count": 3,
     "metadata": {},
     "output_type": "execute_result"
    }
   ],
   "source": [
    "data.shape"
   ]
  },
  {
   "attachments": {},
   "cell_type": "markdown",
   "metadata": {},
   "source": [
    "#### Identificación de los tipos de columnas"
   ]
  },
  {
   "cell_type": "code",
   "execution_count": 4,
   "metadata": {},
   "outputs": [
    {
     "name": "stdout",
     "output_type": "stream",
     "text": [
      "<class 'pandas.core.frame.DataFrame'>\n",
      "Index: 30240 entries, 2019-01-01 00:00:00 to 2023-05-31 23:00:00\n",
      "Data columns (total 15 columns):\n",
      " #   Column       Non-Null Count  Dtype  \n",
      "---  ------       --------------  -----  \n",
      " 0   ANO          30240 non-null  float64\n",
      " 1   MES          30240 non-null  float64\n",
      " 2   DIA          30240 non-null  float64\n",
      " 3   HORA         30240 non-null  int64  \n",
      " 4   DIA_SEMANA   30240 non-null  object \n",
      " 5   ESTACION     30240 non-null  float64\n",
      " 6   SO2          29580 non-null  float64\n",
      " 7   CO           29749 non-null  float64\n",
      " 8   NO2          29822 non-null  float64\n",
      " 9   PM2.5        28786 non-null  float64\n",
      " 10  PM10         28760 non-null  float64\n",
      " 11  O3           29407 non-null  float64\n",
      " 12  BTX          30240 non-null  float64\n",
      " 13  TEMPERATURA  29778 non-null  float64\n",
      " 14  HUMEDAD      29729 non-null  float64\n",
      "dtypes: float64(13), int64(1), object(1)\n",
      "memory usage: 3.7+ MB\n"
     ]
    }
   ],
   "source": [
    "data.info()"
   ]
  },
  {
   "attachments": {},
   "cell_type": "markdown",
   "metadata": {},
   "source": [
    "### Estadística Descriptiva"
   ]
  },
  {
   "cell_type": "code",
   "execution_count": 5,
   "metadata": {},
   "outputs": [
    {
     "data": {
      "text/html": [
       "<div>\n",
       "<style scoped>\n",
       "    .dataframe tbody tr th:only-of-type {\n",
       "        vertical-align: middle;\n",
       "    }\n",
       "\n",
       "    .dataframe tbody tr th {\n",
       "        vertical-align: top;\n",
       "    }\n",
       "\n",
       "    .dataframe thead th {\n",
       "        text-align: right;\n",
       "    }\n",
       "</style>\n",
       "<table border=\"1\" class=\"dataframe\">\n",
       "  <thead>\n",
       "    <tr style=\"text-align: right;\">\n",
       "      <th></th>\n",
       "      <th>ANO</th>\n",
       "      <th>MES</th>\n",
       "      <th>DIA</th>\n",
       "      <th>HORA</th>\n",
       "      <th>ESTACION</th>\n",
       "      <th>SO2</th>\n",
       "      <th>CO</th>\n",
       "      <th>NO2</th>\n",
       "      <th>PM2.5</th>\n",
       "      <th>PM10</th>\n",
       "      <th>O3</th>\n",
       "      <th>BTX</th>\n",
       "      <th>TEMPERATURA</th>\n",
       "      <th>HUMEDAD</th>\n",
       "    </tr>\n",
       "  </thead>\n",
       "  <tbody>\n",
       "    <tr>\n",
       "      <th>count</th>\n",
       "      <td>30240.0</td>\n",
       "      <td>30240.0</td>\n",
       "      <td>30240.0</td>\n",
       "      <td>30240.0</td>\n",
       "      <td>30240.0</td>\n",
       "      <td>29580.0</td>\n",
       "      <td>29749.0</td>\n",
       "      <td>29822.0</td>\n",
       "      <td>28786.0</td>\n",
       "      <td>28760.0</td>\n",
       "      <td>29407.0</td>\n",
       "      <td>30240.0</td>\n",
       "      <td>29778.0</td>\n",
       "      <td>29729.0</td>\n",
       "    </tr>\n",
       "    <tr>\n",
       "      <th>mean</th>\n",
       "      <td>2020.4</td>\n",
       "      <td>5.9</td>\n",
       "      <td>15.8</td>\n",
       "      <td>11.5</td>\n",
       "      <td>8.0</td>\n",
       "      <td>5.7</td>\n",
       "      <td>0.3</td>\n",
       "      <td>39.7</td>\n",
       "      <td>9.7</td>\n",
       "      <td>19.1</td>\n",
       "      <td>47.7</td>\n",
       "      <td>3.5</td>\n",
       "      <td>15.7</td>\n",
       "      <td>55.4</td>\n",
       "    </tr>\n",
       "    <tr>\n",
       "      <th>std</th>\n",
       "      <td>1.3</td>\n",
       "      <td>3.5</td>\n",
       "      <td>8.8</td>\n",
       "      <td>6.9</td>\n",
       "      <td>0.0</td>\n",
       "      <td>3.3</td>\n",
       "      <td>0.2</td>\n",
       "      <td>26.1</td>\n",
       "      <td>8.1</td>\n",
       "      <td>15.1</td>\n",
       "      <td>28.8</td>\n",
       "      <td>4.0</td>\n",
       "      <td>8.2</td>\n",
       "      <td>21.9</td>\n",
       "    </tr>\n",
       "    <tr>\n",
       "      <th>min</th>\n",
       "      <td>2019.0</td>\n",
       "      <td>1.0</td>\n",
       "      <td>1.0</td>\n",
       "      <td>0.0</td>\n",
       "      <td>8.0</td>\n",
       "      <td>1.0</td>\n",
       "      <td>0.1</td>\n",
       "      <td>3.0</td>\n",
       "      <td>0.0</td>\n",
       "      <td>1.0</td>\n",
       "      <td>0.8</td>\n",
       "      <td>0.0</td>\n",
       "      <td>-55.0</td>\n",
       "      <td>-25.0</td>\n",
       "    </tr>\n",
       "    <tr>\n",
       "      <th>25%</th>\n",
       "      <td>2019.0</td>\n",
       "      <td>3.0</td>\n",
       "      <td>8.0</td>\n",
       "      <td>5.8</td>\n",
       "      <td>8.0</td>\n",
       "      <td>3.0</td>\n",
       "      <td>0.2</td>\n",
       "      <td>20.0</td>\n",
       "      <td>4.0</td>\n",
       "      <td>9.0</td>\n",
       "      <td>25.2</td>\n",
       "      <td>1.4</td>\n",
       "      <td>9.6</td>\n",
       "      <td>38.0</td>\n",
       "    </tr>\n",
       "    <tr>\n",
       "      <th>50%</th>\n",
       "      <td>2020.0</td>\n",
       "      <td>5.0</td>\n",
       "      <td>16.0</td>\n",
       "      <td>11.5</td>\n",
       "      <td>8.0</td>\n",
       "      <td>5.0</td>\n",
       "      <td>0.3</td>\n",
       "      <td>34.0</td>\n",
       "      <td>8.0</td>\n",
       "      <td>15.0</td>\n",
       "      <td>47.5</td>\n",
       "      <td>2.5</td>\n",
       "      <td>14.5</td>\n",
       "      <td>54.0</td>\n",
       "    </tr>\n",
       "    <tr>\n",
       "      <th>75%</th>\n",
       "      <td>2021.0</td>\n",
       "      <td>9.0</td>\n",
       "      <td>23.0</td>\n",
       "      <td>17.2</td>\n",
       "      <td>8.0</td>\n",
       "      <td>8.0</td>\n",
       "      <td>0.4</td>\n",
       "      <td>53.0</td>\n",
       "      <td>13.0</td>\n",
       "      <td>25.0</td>\n",
       "      <td>66.7</td>\n",
       "      <td>4.3</td>\n",
       "      <td>21.2</td>\n",
       "      <td>72.0</td>\n",
       "    </tr>\n",
       "    <tr>\n",
       "      <th>max</th>\n",
       "      <td>2023.0</td>\n",
       "      <td>12.0</td>\n",
       "      <td>31.0</td>\n",
       "      <td>23.0</td>\n",
       "      <td>8.0</td>\n",
       "      <td>35.0</td>\n",
       "      <td>2.9</td>\n",
       "      <td>279.0</td>\n",
       "      <td>106.0</td>\n",
       "      <td>211.0</td>\n",
       "      <td>158.0</td>\n",
       "      <td>150.6</td>\n",
       "      <td>42.5</td>\n",
       "      <td>100.0</td>\n",
       "    </tr>\n",
       "  </tbody>\n",
       "</table>\n",
       "</div>"
      ],
      "text/plain": [
       "           ANO      MES      DIA     HORA  ESTACION      SO2       CO  \\\n",
       "count  30240.0  30240.0  30240.0  30240.0   30240.0  29580.0  29749.0   \n",
       "mean    2020.4      5.9     15.8     11.5       8.0      5.7      0.3   \n",
       "std        1.3      3.5      8.8      6.9       0.0      3.3      0.2   \n",
       "min     2019.0      1.0      1.0      0.0       8.0      1.0      0.1   \n",
       "25%     2019.0      3.0      8.0      5.8       8.0      3.0      0.2   \n",
       "50%     2020.0      5.0     16.0     11.5       8.0      5.0      0.3   \n",
       "75%     2021.0      9.0     23.0     17.2       8.0      8.0      0.4   \n",
       "max     2023.0     12.0     31.0     23.0       8.0     35.0      2.9   \n",
       "\n",
       "           NO2    PM2.5     PM10       O3      BTX  TEMPERATURA  HUMEDAD  \n",
       "count  29822.0  28786.0  28760.0  29407.0  30240.0      29778.0  29729.0  \n",
       "mean      39.7      9.7     19.1     47.7      3.5         15.7     55.4  \n",
       "std       26.1      8.1     15.1     28.8      4.0          8.2     21.9  \n",
       "min        3.0      0.0      1.0      0.8      0.0        -55.0    -25.0  \n",
       "25%       20.0      4.0      9.0     25.2      1.4          9.6     38.0  \n",
       "50%       34.0      8.0     15.0     47.5      2.5         14.5     54.0  \n",
       "75%       53.0     13.0     25.0     66.7      4.3         21.2     72.0  \n",
       "max      279.0    106.0    211.0    158.0    150.6         42.5    100.0  "
      ]
     },
     "execution_count": 5,
     "metadata": {},
     "output_type": "execute_result"
    }
   ],
   "source": [
    "##estadísticas descriptivas\n",
    "data.describe().round(1)"
   ]
  },
  {
   "attachments": {},
   "cell_type": "markdown",
   "metadata": {},
   "source": [
    "### Tratamiento Nulos"
   ]
  },
  {
   "attachments": {},
   "cell_type": "markdown",
   "metadata": {},
   "source": [
    "####  1. Identifica valores nulos"
   ]
  },
  {
   "cell_type": "code",
   "execution_count": 6,
   "metadata": {},
   "outputs": [
    {
     "data": {
      "text/plain": [
       "ANO               0\n",
       "MES               0\n",
       "DIA               0\n",
       "HORA              0\n",
       "DIA_SEMANA        0\n",
       "ESTACION          0\n",
       "SO2             660\n",
       "CO              491\n",
       "NO2             418\n",
       "PM2.5          1454\n",
       "PM10           1480\n",
       "O3              833\n",
       "BTX               0\n",
       "TEMPERATURA     462\n",
       "HUMEDAD         511\n",
       "dtype: int64"
      ]
     },
     "execution_count": 6,
     "metadata": {},
     "output_type": "execute_result"
    }
   ],
   "source": [
    "data.isnull().sum()"
   ]
  },
  {
   "attachments": {},
   "cell_type": "markdown",
   "metadata": {},
   "source": [
    "#####  1.1. Identifica si hay valores nulos en TODAS las columnas del dataframe \"data\""
   ]
  },
  {
   "cell_type": "code",
   "execution_count": 7,
   "metadata": {},
   "outputs": [
    {
     "name": "stdout",
     "output_type": "stream",
     "text": [
      "La columna SO2 tiene valores nulos.\n",
      "La columna CO tiene valores nulos.\n",
      "La columna NO2 tiene valores nulos.\n",
      "La columna PM2.5 tiene valores nulos.\n",
      "La columna PM10 tiene valores nulos.\n",
      "La columna O3 tiene valores nulos.\n",
      "La columna TEMPERATURA tiene valores nulos.\n",
      "La columna HUMEDAD tiene valores nulos.\n"
     ]
    }
   ],
   "source": [
    "datos_seleccionados = data\n",
    "for columna in datos_seleccionados:\n",
    "    if datos_seleccionados[columna].isnull().any():\n",
    "        print(f\"La columna {columna} tiene valores nulos.\")"
   ]
  },
  {
   "attachments": {},
   "cell_type": "markdown",
   "metadata": {},
   "source": [
    "#####  1.2. Visualización de los valores nulos en la gráfica"
   ]
  },
  {
   "cell_type": "code",
   "execution_count": 8,
   "metadata": {},
   "outputs": [
    {
     "data": {
      "text/plain": [
       "<Axes: >"
      ]
     },
     "execution_count": 8,
     "metadata": {},
     "output_type": "execute_result"
    },
    {
     "data": {
      "image/png": "[encoded data removed]",
      "text/plain": [
       "<Figure size 2500x1000 with 2 Axes>"
      ]
     },
     "metadata": {},
     "output_type": "display_data"
    }
   ],
   "source": [
    "import missingno as msno\n",
    "%matplotlib inline\n",
    "msno.matrix(data)"
   ]
  },
  {
   "attachments": {},
   "cell_type": "markdown",
   "metadata": {},
   "source": [
    "#####  1.3. Rellena las columnas que contienen valor nulo con la mediana y crea un nuevo DataFrame."
   ]
  },
  {
   "cell_type": "code",
   "execution_count": 9,
   "metadata": {},
   "outputs": [],
   "source": [
    "# función que recibe una lista de columnas, calcula la mediana\n",
    "def nulos(dataframe, columns):\n",
    "    resultado = pd.DataFrame(columns=['Columna', 'Valor_mediana'])\n",
    "    \n",
    "    for col in columns:\n",
    "        median_value = dataframe[col].median()\n",
    "        dataframe[col] = dataframe[col].fillna(median_value)\n",
    "\n",
    "        resultado = pd.concat([resultado, pd.DataFrame({\n",
    "            'Columna': [col],\n",
    "            'Valor_mediana': [median_value]\n",
    "        })], ignore_index=True)\n",
    "    df_cuartil = resultado       \n",
    "    return resultado"
   ]
  },
  {
   "attachments": {},
   "cell_type": "markdown",
   "metadata": {},
   "source": [
    "#####  1.4. Selecciona solamente aquellas columnas que se quiere calcular la mediana"
   ]
  },
  {
   "cell_type": "code",
   "execution_count": 11,
   "metadata": {},
   "outputs": [
    {
     "data": {
      "text/plain": [
       "Index(['ANO', 'MES', 'DIA', 'HORA', 'DIA_SEMANA', 'ESTACION', 'SO2', 'CO',\n",
       "       'NO2', 'PM2.5', 'PM10', 'O3', 'BTX', 'TEMPERATURA', 'HUMEDAD'],\n",
       "      dtype='object')"
      ]
     },
     "execution_count": 11,
     "metadata": {},
     "output_type": "execute_result"
    }
   ],
   "source": [
    "data.columns"
   ]
  },
  {
   "cell_type": "code",
   "execution_count": 12,
   "metadata": {},
   "outputs": [
    {
     "name": "stdout",
     "output_type": "stream",
     "text": [
      "       Columna  Valor_mediana\n",
      "0          SO2           5.00\n",
      "1           CO           0.30\n",
      "2          NO2          34.00\n",
      "3        PM2.5           8.00\n",
      "4         PM10          15.00\n",
      "5           O3          47.47\n",
      "6          BTX           2.50\n",
      "7  TEMPERATURA          14.50\n",
      "8      HUMEDAD          54.00\n"
     ]
    }
   ],
   "source": [
    "data_nulos = data\n",
    "numeric_columns = ['SO2', 'CO', 'NO2', 'PM2.5', 'PM10', 'O3', 'BTX', 'TEMPERATURA', 'HUMEDAD'] # Lista de columnas\n",
    "\n",
    "resultado = nulos(data_nulos, numeric_columns)\n",
    "print(resultado)"
   ]
  },
  {
   "cell_type": "code",
   "execution_count": 13,
   "metadata": {},
   "outputs": [
    {
     "data": {
      "text/html": [
       "<div>\n",
       "<style scoped>\n",
       "    .dataframe tbody tr th:only-of-type {\n",
       "        vertical-align: middle;\n",
       "    }\n",
       "\n",
       "    .dataframe tbody tr th {\n",
       "        vertical-align: top;\n",
       "    }\n",
       "\n",
       "    .dataframe thead th {\n",
       "        text-align: right;\n",
       "    }\n",
       "</style>\n",
       "<table border=\"1\" class=\"dataframe\">\n",
       "  <thead>\n",
       "    <tr style=\"text-align: right;\">\n",
       "      <th></th>\n",
       "      <th>ANO</th>\n",
       "      <th>MES</th>\n",
       "      <th>DIA</th>\n",
       "      <th>HORA</th>\n",
       "      <th>DIA_SEMANA</th>\n",
       "      <th>ESTACION</th>\n",
       "      <th>SO2</th>\n",
       "      <th>CO</th>\n",
       "      <th>NO2</th>\n",
       "      <th>PM2.5</th>\n",
       "      <th>PM10</th>\n",
       "      <th>O3</th>\n",
       "      <th>BTX</th>\n",
       "      <th>TEMPERATURA</th>\n",
       "      <th>HUMEDAD</th>\n",
       "    </tr>\n",
       "    <tr>\n",
       "      <th>FECHA</th>\n",
       "      <th></th>\n",
       "      <th></th>\n",
       "      <th></th>\n",
       "      <th></th>\n",
       "      <th></th>\n",
       "      <th></th>\n",
       "      <th></th>\n",
       "      <th></th>\n",
       "      <th></th>\n",
       "      <th></th>\n",
       "      <th></th>\n",
       "      <th></th>\n",
       "      <th></th>\n",
       "      <th></th>\n",
       "      <th></th>\n",
       "    </tr>\n",
       "  </thead>\n",
       "  <tbody>\n",
       "    <tr>\n",
       "      <th>2019-01-01 00:00:00</th>\n",
       "      <td>2019.0</td>\n",
       "      <td>1.0</td>\n",
       "      <td>1.0</td>\n",
       "      <td>0</td>\n",
       "      <td>Martes</td>\n",
       "      <td>8.0</td>\n",
       "      <td>13.0</td>\n",
       "      <td>0.7</td>\n",
       "      <td>79.0</td>\n",
       "      <td>24.0</td>\n",
       "      <td>32.0</td>\n",
       "      <td>3.84</td>\n",
       "      <td>6.4</td>\n",
       "      <td>6.9</td>\n",
       "      <td>50.0</td>\n",
       "    </tr>\n",
       "    <tr>\n",
       "      <th>2019-01-01 01:00:00</th>\n",
       "      <td>2019.0</td>\n",
       "      <td>1.0</td>\n",
       "      <td>1.0</td>\n",
       "      <td>1</td>\n",
       "      <td>Martes</td>\n",
       "      <td>8.0</td>\n",
       "      <td>13.0</td>\n",
       "      <td>0.6</td>\n",
       "      <td>76.0</td>\n",
       "      <td>33.0</td>\n",
       "      <td>105.0</td>\n",
       "      <td>3.61</td>\n",
       "      <td>4.9</td>\n",
       "      <td>6.7</td>\n",
       "      <td>48.0</td>\n",
       "    </tr>\n",
       "    <tr>\n",
       "      <th>2019-01-01 02:00:00</th>\n",
       "      <td>2019.0</td>\n",
       "      <td>1.0</td>\n",
       "      <td>1.0</td>\n",
       "      <td>2</td>\n",
       "      <td>Martes</td>\n",
       "      <td>8.0</td>\n",
       "      <td>12.0</td>\n",
       "      <td>0.6</td>\n",
       "      <td>85.0</td>\n",
       "      <td>34.0</td>\n",
       "      <td>91.0</td>\n",
       "      <td>3.73</td>\n",
       "      <td>5.2</td>\n",
       "      <td>6.1</td>\n",
       "      <td>51.0</td>\n",
       "    </tr>\n",
       "    <tr>\n",
       "      <th>2019-01-01 03:00:00</th>\n",
       "      <td>2019.0</td>\n",
       "      <td>1.0</td>\n",
       "      <td>1.0</td>\n",
       "      <td>3</td>\n",
       "      <td>Martes</td>\n",
       "      <td>8.0</td>\n",
       "      <td>10.0</td>\n",
       "      <td>0.6</td>\n",
       "      <td>81.0</td>\n",
       "      <td>29.0</td>\n",
       "      <td>43.0</td>\n",
       "      <td>3.64</td>\n",
       "      <td>5.0</td>\n",
       "      <td>4.4</td>\n",
       "      <td>56.0</td>\n",
       "    </tr>\n",
       "    <tr>\n",
       "      <th>2019-01-01 04:00:00</th>\n",
       "      <td>2019.0</td>\n",
       "      <td>1.0</td>\n",
       "      <td>1.0</td>\n",
       "      <td>4</td>\n",
       "      <td>Martes</td>\n",
       "      <td>8.0</td>\n",
       "      <td>9.0</td>\n",
       "      <td>0.5</td>\n",
       "      <td>68.0</td>\n",
       "      <td>23.0</td>\n",
       "      <td>31.0</td>\n",
       "      <td>5.28</td>\n",
       "      <td>3.8</td>\n",
       "      <td>4.9</td>\n",
       "      <td>51.0</td>\n",
       "    </tr>\n",
       "  </tbody>\n",
       "</table>\n",
       "</div>"
      ],
      "text/plain": [
       "                        ANO  MES  DIA  HORA DIA_SEMANA  ESTACION   SO2   CO  \\\n",
       "FECHA                                                                         \n",
       "2019-01-01 00:00:00  2019.0  1.0  1.0     0     Martes       8.0  13.0  0.7   \n",
       "2019-01-01 01:00:00  2019.0  1.0  1.0     1     Martes       8.0  13.0  0.6   \n",
       "2019-01-01 02:00:00  2019.0  1.0  1.0     2     Martes       8.0  12.0  0.6   \n",
       "2019-01-01 03:00:00  2019.0  1.0  1.0     3     Martes       8.0  10.0  0.6   \n",
       "2019-01-01 04:00:00  2019.0  1.0  1.0     4     Martes       8.0   9.0  0.5   \n",
       "\n",
       "                      NO2  PM2.5   PM10    O3  BTX  TEMPERATURA  HUMEDAD  \n",
       "FECHA                                                                     \n",
       "2019-01-01 00:00:00  79.0   24.0   32.0  3.84  6.4          6.9     50.0  \n",
       "2019-01-01 01:00:00  76.0   33.0  105.0  3.61  4.9          6.7     48.0  \n",
       "2019-01-01 02:00:00  85.0   34.0   91.0  3.73  5.2          6.1     51.0  \n",
       "2019-01-01 03:00:00  81.0   29.0   43.0  3.64  5.0          4.4     56.0  \n",
       "2019-01-01 04:00:00  68.0   23.0   31.0  5.28  3.8          4.9     51.0  "
      ]
     },
     "execution_count": 13,
     "metadata": {},
     "output_type": "execute_result"
    }
   ],
   "source": [
    "data_nulos.head()"
   ]
  },
  {
   "attachments": {},
   "cell_type": "markdown",
   "metadata": {},
   "source": [
    "Verifica si todavia hay valores nulos para las columnas selecionadas"
   ]
  },
  {
   "cell_type": "code",
   "execution_count": 14,
   "metadata": {},
   "outputs": [
    {
     "data": {
      "text/plain": [
       "ANO            0\n",
       "MES            0\n",
       "DIA            0\n",
       "HORA           0\n",
       "DIA_SEMANA     0\n",
       "ESTACION       0\n",
       "SO2            0\n",
       "CO             0\n",
       "NO2            0\n",
       "PM2.5          0\n",
       "PM10           0\n",
       "O3             0\n",
       "BTX            0\n",
       "TEMPERATURA    0\n",
       "HUMEDAD        0\n",
       "dtype: int64"
      ]
     },
     "execution_count": 14,
     "metadata": {},
     "output_type": "execute_result"
    }
   ],
   "source": [
    "data_nulos.isnull().sum()"
   ]
  },
  {
   "attachments": {},
   "cell_type": "markdown",
   "metadata": {},
   "source": [
    "#####  1.4. Genera el CSV después del pocesamiento de los valores nulos"
   ]
  },
  {
   "cell_type": "code",
   "execution_count": 21,
   "metadata": {},
   "outputs": [],
   "source": [
    "data_nulos.to_csv(ruta_nuevoCSV, index=False)"
   ]
  }
 ],
 "metadata": {
  "kernelspec": {
   "display_name": "Python 3",
   "language": "python",
   "name": "python3"
  },
  "language_info": {
   "codemirror_mode": {
    "name": "ipython",
    "version": 3
   },
   "file_extension": ".py",
   "mimetype": "text/x-python",
   "name": "python",
   "nbconvert_exporter": "python",
   "pygments_lexer": "ipython3",
   "version": "3.10.11"
  },
  "orig_nbformat": 4
 },
 "nbformat": 4,
 "nbformat_minor": 2
}
