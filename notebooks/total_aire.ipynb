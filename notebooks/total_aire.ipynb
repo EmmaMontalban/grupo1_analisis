{
 "cells": [
  {
   "cell_type": "code",
   "execution_count": 8,
   "metadata": {},
   "outputs": [],
   "source": [
    "import pandas as pd \n",
    "import numpy as np\n",
    "import os\n",
    "from pandas import concat"
   ]
  },
  {
   "cell_type": "code",
   "execution_count": 9,
   "metadata": {},
   "outputs": [
    {
     "data": {
      "text/plain": [
       "['data_n02_fecha.csv',\n",
       " 'data_o3_fecha.csv',\n",
       " 'data_pm10_fecha.csv',\n",
       " 'data_pm2_5_fecha.csv']"
      ]
     },
     "execution_count": 9,
     "metadata": {},
     "output_type": "execute_result"
    }
   ],
   "source": [
    "file_names = os.listdir('../data/componentes/')\n",
    "file_names"
   ]
  },
  {
   "cell_type": "code",
   "execution_count": 11,
   "metadata": {},
   "outputs": [
    {
     "name": "stdout",
     "output_type": "stream",
     "text": [
      "data_n02_fecha.csv (210240, 9)\n",
      "data_o3_fecha.csv (113880, 9)\n",
      "data_pm10_fecha.csv (113880, 9)\n",
      "data_pm2_5_fecha.csv (70080, 9)\n"
     ]
    },
    {
     "data": {
      "text/plain": [
       "Index(['Unnamed: 0', 'estacion', 'fecha', 'hora', 'NO2', 'ano', 'mes', 'dia',\n",
       "       'dia_semana', 'O3', 'PM10', 'PM2.5'],\n",
       "      dtype='object')"
      ]
     },
     "execution_count": 11,
     "metadata": {},
     "output_type": "execute_result"
    }
   ],
   "source": [
    "df_aire = pd.DataFrame()\n",
    "for file_name in file_names:\n",
    "    df_current = pd.read_csv('../data/componentes/' + file_name, delimiter=',')\n",
    "    print(file_name, df_current.shape)\n",
    "    df_aire = pd.concat([df_aire, df_current], ignore_index=True)\n",
    "    \n",
    "df_aire.columns"
   ]
  }
 ],
 "metadata": {
  "kernelspec": {
   "display_name": "Python 3",
   "language": "python",
   "name": "python3"
  },
  "language_info": {
   "codemirror_mode": {
    "name": "ipython",
    "version": 3
   },
   "file_extension": ".py",
   "mimetype": "text/x-python",
   "name": "python",
   "nbconvert_exporter": "python",
   "pygments_lexer": "ipython3",
   "version": "3.10.11"
  },
  "orig_nbformat": 4
 },
 "nbformat": 4,
 "nbformat_minor": 2
}
