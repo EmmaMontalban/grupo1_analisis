{
 "cells": [
  {
   "cell_type": "code",
   "execution_count": 1,
   "metadata": {},
   "outputs": [],
   "source": [
    "import pandas as pd\n",
    "import os"
   ]
  },
  {
   "cell_type": "code",
   "execution_count": 2,
   "metadata": {},
   "outputs": [
    {
     "name": "stdout",
     "output_type": "stream",
     "text": [
      "<class 'pandas.core.frame.DataFrame'>\n",
      "RangeIndex: 26 entries, 0 to 25\n",
      "Data columns (total 23 columns):\n",
      " #   Column               Non-Null Count  Dtype  \n",
      "---  ------               --------------  -----  \n",
      " 0   CÓDIGO               26 non-null     int64  \n",
      " 1   CÓDIGO_CORTO         26 non-null     int64  \n",
      " 2   ESTACIÓN             26 non-null     object \n",
      " 3   DIRECCION            26 non-null     object \n",
      " 4   LONGITUD_ETRS89      26 non-null     object \n",
      " 5   LATITUD_ETRS89       26 non-null     object \n",
      " 6   ALTITUD              26 non-null     int64  \n",
      " 7   VV (81)              10 non-null     object \n",
      " 8   DV (82)              10 non-null     object \n",
      " 9   T (83)               25 non-null     object \n",
      " 10  HR (86)              23 non-null     object \n",
      " 11  PB (87)              8 non-null      object \n",
      " 12  RS (88)              8 non-null      object \n",
      " 13  P (89)               10 non-null     object \n",
      " 14  COD_VIA              25 non-null     float64\n",
      " 15  VIA_CLASE            26 non-null     object \n",
      " 16  VIA_PAR              22 non-null     object \n",
      " 17  VIA_NOMBRE           26 non-null     object \n",
      " 18  NUM_VIA              11 non-null     object \n",
      " 19  COORDENADA_X_ETRS89  26 non-null     object \n",
      " 20  COORDENADA_Y_ETRS89  26 non-null     object \n",
      " 21  LONGITUD             26 non-null     object \n",
      " 22  LATITUD              26 non-null     object \n",
      "dtypes: float64(1), int64(3), object(19)\n",
      "memory usage: 4.8+ KB\n"
     ]
    }
   ],
   "source": [
    "df_estaciones = pd.read_csv('../data/Estaciones_control_datos_meteorologicos.csv', delimiter=';')\n",
    "df_estaciones.info()"
   ]
  },
  {
   "cell_type": "code",
   "execution_count": 3,
   "metadata": {},
   "outputs": [
    {
     "data": {
      "text/html": [
       "<div>\n",
       "<style scoped>\n",
       "    .dataframe tbody tr th:only-of-type {\n",
       "        vertical-align: middle;\n",
       "    }\n",
       "\n",
       "    .dataframe tbody tr th {\n",
       "        vertical-align: top;\n",
       "    }\n",
       "\n",
       "    .dataframe thead th {\n",
       "        text-align: right;\n",
       "    }\n",
       "</style>\n",
       "<table border=\"1\" class=\"dataframe\">\n",
       "  <thead>\n",
       "    <tr style=\"text-align: right;\">\n",
       "      <th></th>\n",
       "      <th>CÓDIGO</th>\n",
       "      <th>CÓDIGO_CORTO</th>\n",
       "      <th>ESTACIÓN</th>\n",
       "      <th>DIRECCION</th>\n",
       "      <th>LONGITUD_ETRS89</th>\n",
       "      <th>LATITUD_ETRS89</th>\n",
       "      <th>ALTITUD</th>\n",
       "      <th>VV (81)</th>\n",
       "      <th>DV (82)</th>\n",
       "      <th>T (83)</th>\n",
       "      <th>...</th>\n",
       "      <th>P (89)</th>\n",
       "      <th>COD_VIA</th>\n",
       "      <th>VIA_CLASE</th>\n",
       "      <th>VIA_PAR</th>\n",
       "      <th>VIA_NOMBRE</th>\n",
       "      <th>NUM_VIA</th>\n",
       "      <th>COORDENADA_X_ETRS89</th>\n",
       "      <th>COORDENADA_Y_ETRS89</th>\n",
       "      <th>LONGITUD</th>\n",
       "      <th>LATITUD</th>\n",
       "    </tr>\n",
       "  </thead>\n",
       "  <tbody>\n",
       "    <tr>\n",
       "      <th>0</th>\n",
       "      <td>28079004</td>\n",
       "      <td>4</td>\n",
       "      <td>Plaza España</td>\n",
       "      <td>Plaza de España</td>\n",
       "      <td>3°42'43.91\"O</td>\n",
       "      <td>40°25'25.98\"N</td>\n",
       "      <td>637</td>\n",
       "      <td>NaN</td>\n",
       "      <td>NaN</td>\n",
       "      <td>X</td>\n",
       "      <td>...</td>\n",
       "      <td>NaN</td>\n",
       "      <td>273600.0</td>\n",
       "      <td>PLAZA</td>\n",
       "      <td>DE</td>\n",
       "      <td>ESPAÑA</td>\n",
       "      <td>NaN</td>\n",
       "      <td>439579,3291</td>\n",
       "      <td>4475049,263</td>\n",
       "      <td>-37.122.567</td>\n",
       "      <td>404.238.823</td>\n",
       "    </tr>\n",
       "    <tr>\n",
       "      <th>1</th>\n",
       "      <td>28079008</td>\n",
       "      <td>8</td>\n",
       "      <td>Escuelas Aguirre</td>\n",
       "      <td>Entre C/ Alcalá y C/ O’ Donell</td>\n",
       "      <td>3°40'56.22\"O</td>\n",
       "      <td>40°25'17.63\"N</td>\n",
       "      <td>672</td>\n",
       "      <td>NaN</td>\n",
       "      <td>NaN</td>\n",
       "      <td>X</td>\n",
       "      <td>...</td>\n",
       "      <td>NaN</td>\n",
       "      <td>18900.0</td>\n",
       "      <td>CALLE</td>\n",
       "      <td>DE</td>\n",
       "      <td>ALCALA</td>\n",
       "      <td>NaN</td>\n",
       "      <td>442117,2366</td>\n",
       "      <td>4474770,696</td>\n",
       "      <td>-36.823.158</td>\n",
       "      <td>404.215.533</td>\n",
       "    </tr>\n",
       "  </tbody>\n",
       "</table>\n",
       "<p>2 rows × 23 columns</p>\n",
       "</div>"
      ],
      "text/plain": [
       "     CÓDIGO  CÓDIGO_CORTO          ESTACIÓN                        DIRECCION   \n",
       "0  28079004             4      Plaza España                  Plaza de España  \\\n",
       "1  28079008             8  Escuelas Aguirre  Entre C/ Alcalá y C/ O’ Donell    \n",
       "\n",
       "  LONGITUD_ETRS89 LATITUD_ETRS89  ALTITUD VV (81) DV (82) T (83)  ... P (89)   \n",
       "0    3°42'43.91\"O  40°25'25.98\"N      637     NaN     NaN      X  ...    NaN  \\\n",
       "1    3°40'56.22\"O  40°25'17.63\"N      672     NaN     NaN      X  ...    NaN   \n",
       "\n",
       "    COD_VIA VIA_CLASE VIA_PAR  VIA_NOMBRE NUM_VIA COORDENADA_X_ETRS89   \n",
       "0  273600.0     PLAZA      DE      ESPAÑA     NaN         439579,3291  \\\n",
       "1   18900.0     CALLE      DE      ALCALA     NaN         442117,2366   \n",
       "\n",
       "  COORDENADA_Y_ETRS89     LONGITUD      LATITUD  \n",
       "0         4475049,263  -37.122.567  404.238.823  \n",
       "1         4474770,696  -36.823.158  404.215.533  \n",
       "\n",
       "[2 rows x 23 columns]"
      ]
     },
     "execution_count": 3,
     "metadata": {},
     "output_type": "execute_result"
    }
   ],
   "source": [
    "df_estaciones.head(2)"
   ]
  },
  {
   "cell_type": "code",
   "execution_count": 4,
   "metadata": {},
   "outputs": [
    {
     "data": {
      "text/plain": [
       "['meteo19.csv', 'meteo20.csv', 'meteo21.csv', 'meteo22.csv', 'meteo23.csv']"
      ]
     },
     "execution_count": 4,
     "metadata": {},
     "output_type": "execute_result"
    }
   ],
   "source": [
    "file_names = os.listdir('../data/metereologia/')\n",
    "file_names"
   ]
  },
  {
   "cell_type": "code",
   "execution_count": 5,
   "metadata": {},
   "outputs": [
    {
     "name": "stdout",
     "output_type": "stream",
     "text": [
      "meteo19.csv (1130, 69)\n",
      "meteo20.csv (1092, 69)\n",
      "meteo21.csv (1052, 69)\n",
      "meteo22.csv (933, 69)\n",
      "meteo23.csv (376, 69)\n"
     ]
    }
   ],
   "source": [
    "df_meteo = pd.DataFrame()\n",
    "for file_name in file_names:\n",
    "    df_current = pd.read_csv('../data/metereologia/' + file_name, delimiter=';')\n",
    "    print(file_name, df_current.shape)\n",
    "    df_meteo = pd.concat([df_meteo, df_current], ignore_index=True)"
   ]
  },
  {
   "cell_type": "code",
   "execution_count": 6,
   "metadata": {},
   "outputs": [
    {
     "data": {
      "text/plain": [
       "(4583, 69)"
      ]
     },
     "execution_count": 6,
     "metadata": {},
     "output_type": "execute_result"
    }
   ],
   "source": [
    "df_meteo.shape"
   ]
  },
  {
   "cell_type": "code",
   "execution_count": 8,
   "metadata": {},
   "outputs": [
    {
     "data": {
      "text/html": [
       "<div>\n",
       "<style scoped>\n",
       "    .dataframe tbody tr th:only-of-type {\n",
       "        vertical-align: middle;\n",
       "    }\n",
       "\n",
       "    .dataframe tbody tr th {\n",
       "        vertical-align: top;\n",
       "    }\n",
       "\n",
       "    .dataframe thead th {\n",
       "        text-align: right;\n",
       "    }\n",
       "</style>\n",
       "<table border=\"1\" class=\"dataframe\">\n",
       "  <thead>\n",
       "    <tr style=\"text-align: right;\">\n",
       "      <th></th>\n",
       "      <th>PROVINCIA</th>\n",
       "      <th>MUNICIPIO</th>\n",
       "      <th>ESTACION</th>\n",
       "      <th>MAGNITUD</th>\n",
       "      <th>PUNTO_MUESTREO</th>\n",
       "      <th>ANO</th>\n",
       "      <th>MES</th>\n",
       "      <th>D01</th>\n",
       "      <th>V01</th>\n",
       "      <th>D02</th>\n",
       "      <th>...</th>\n",
       "      <th>D27</th>\n",
       "      <th>V27</th>\n",
       "      <th>D28</th>\n",
       "      <th>V28</th>\n",
       "      <th>D29</th>\n",
       "      <th>V29</th>\n",
       "      <th>D30</th>\n",
       "      <th>V30</th>\n",
       "      <th>D31</th>\n",
       "      <th>V31</th>\n",
       "    </tr>\n",
       "  </thead>\n",
       "  <tbody>\n",
       "    <tr>\n",
       "      <th>0</th>\n",
       "      <td>28</td>\n",
       "      <td>79</td>\n",
       "      <td>102</td>\n",
       "      <td>81</td>\n",
       "      <td>28079102_81_98</td>\n",
       "      <td>2019</td>\n",
       "      <td>1</td>\n",
       "      <td>0.66</td>\n",
       "      <td>V</td>\n",
       "      <td>1.16</td>\n",
       "      <td>...</td>\n",
       "      <td>2.57</td>\n",
       "      <td>V</td>\n",
       "      <td>2.93</td>\n",
       "      <td>V</td>\n",
       "      <td>3.23</td>\n",
       "      <td>V</td>\n",
       "      <td>3.18</td>\n",
       "      <td>V</td>\n",
       "      <td>4.72</td>\n",
       "      <td>V</td>\n",
       "    </tr>\n",
       "    <tr>\n",
       "      <th>1</th>\n",
       "      <td>28</td>\n",
       "      <td>79</td>\n",
       "      <td>102</td>\n",
       "      <td>81</td>\n",
       "      <td>28079102_81_98</td>\n",
       "      <td>2019</td>\n",
       "      <td>2</td>\n",
       "      <td>4.32</td>\n",
       "      <td>V</td>\n",
       "      <td>2.98</td>\n",
       "      <td>...</td>\n",
       "      <td>1.36</td>\n",
       "      <td>V</td>\n",
       "      <td>0.97</td>\n",
       "      <td>V</td>\n",
       "      <td>0.00</td>\n",
       "      <td>N</td>\n",
       "      <td>0.00</td>\n",
       "      <td>N</td>\n",
       "      <td>0.00</td>\n",
       "      <td>N</td>\n",
       "    </tr>\n",
       "  </tbody>\n",
       "</table>\n",
       "<p>2 rows × 69 columns</p>\n",
       "</div>"
      ],
      "text/plain": [
       "   PROVINCIA  MUNICIPIO  ESTACION  MAGNITUD  PUNTO_MUESTREO   ANO  MES   D01   \n",
       "0         28         79       102        81  28079102_81_98  2019    1  0.66  \\\n",
       "1         28         79       102        81  28079102_81_98  2019    2  4.32   \n",
       "\n",
       "  V01   D02  ...   D27  V27   D28  V28   D29  V29   D30  V30   D31  V31  \n",
       "0   V  1.16  ...  2.57    V  2.93    V  3.23    V  3.18    V  4.72    V  \n",
       "1   V  2.98  ...  1.36    V  0.97    V  0.00    N  0.00    N  0.00    N  \n",
       "\n",
       "[2 rows x 69 columns]"
      ]
     },
     "execution_count": 8,
     "metadata": {},
     "output_type": "execute_result"
    }
   ],
   "source": [
    "df_meteo.head(2)"
   ]
  },
  {
   "cell_type": "code",
   "execution_count": 9,
   "metadata": {},
   "outputs": [
    {
     "name": "stdout",
     "output_type": "stream",
     "text": [
      "<class 'pandas.core.frame.DataFrame'>\n",
      "RangeIndex: 4583 entries, 0 to 4582\n",
      "Data columns (total 69 columns):\n",
      " #   Column          Non-Null Count  Dtype  \n",
      "---  ------          --------------  -----  \n",
      " 0   PROVINCIA       4583 non-null   int64  \n",
      " 1   MUNICIPIO       4583 non-null   int64  \n",
      " 2   ESTACION        4583 non-null   int64  \n",
      " 3   MAGNITUD        4583 non-null   int64  \n",
      " 4   PUNTO_MUESTREO  4583 non-null   object \n",
      " 5   ANO             4583 non-null   int64  \n",
      " 6   MES             4583 non-null   int64  \n",
      " 7   D01             4583 non-null   float64\n",
      " 8   V01             4583 non-null   object \n",
      " 9   D02             4583 non-null   float64\n",
      " 10  V02             4583 non-null   object \n",
      " 11  D03             4583 non-null   float64\n",
      " 12  V03             4583 non-null   object \n",
      " 13  D04             4583 non-null   float64\n",
      " 14  V04             4583 non-null   object \n",
      " 15  D05             4583 non-null   float64\n",
      " 16  V05             4583 non-null   object \n",
      " 17  D06             4583 non-null   float64\n",
      " 18  V06             4583 non-null   object \n",
      " 19  D07             4583 non-null   float64\n",
      " 20  V07             4583 non-null   object \n",
      " 21  D08             4583 non-null   float64\n",
      " 22  V08             4583 non-null   object \n",
      " 23  D09             4583 non-null   float64\n",
      " 24  V09             4583 non-null   object \n",
      " 25  D10             4583 non-null   float64\n",
      " 26  V10             4583 non-null   object \n",
      " 27  D11             4583 non-null   float64\n",
      " 28  V11             4583 non-null   object \n",
      " 29  D12             4583 non-null   float64\n",
      " 30  V12             4583 non-null   object \n",
      " 31  D13             4583 non-null   float64\n",
      " 32  V13             4583 non-null   object \n",
      " 33  D14             4583 non-null   float64\n",
      " 34  V14             4583 non-null   object \n",
      " 35  D15             4583 non-null   float64\n",
      " 36  V15             4583 non-null   object \n",
      " 37  D16             4583 non-null   float64\n",
      " 38  V16             4583 non-null   object \n",
      " 39  D17             4583 non-null   float64\n",
      " 40  V17             4583 non-null   object \n",
      " 41  D18             4583 non-null   float64\n",
      " 42  V18             4583 non-null   object \n",
      " 43  D19             4583 non-null   float64\n",
      " 44  V19             4583 non-null   object \n",
      " 45  D20             4583 non-null   float64\n",
      " 46  V20             4583 non-null   object \n",
      " 47  D21             4583 non-null   float64\n",
      " 48  V21             4583 non-null   object \n",
      " 49  D22             4583 non-null   float64\n",
      " 50  V22             4583 non-null   object \n",
      " 51  D23             4583 non-null   float64\n",
      " 52  V23             4583 non-null   object \n",
      " 53  D24             4583 non-null   float64\n",
      " 54  V24             4583 non-null   object \n",
      " 55  D25             4583 non-null   float64\n",
      " 56  V25             4583 non-null   object \n",
      " 57  D26             4583 non-null   float64\n",
      " 58  V26             4583 non-null   object \n",
      " 59  D27             4583 non-null   float64\n",
      " 60  V27             4583 non-null   object \n",
      " 61  D28             4583 non-null   float64\n",
      " 62  V28             4583 non-null   object \n",
      " 63  D29             4583 non-null   float64\n",
      " 64  V29             4583 non-null   object \n",
      " 65  D30             4583 non-null   float64\n",
      " 66  V30             4583 non-null   object \n",
      " 67  D31             4583 non-null   float64\n",
      " 68  V31             4583 non-null   object \n",
      "dtypes: float64(31), int64(6), object(32)\n",
      "memory usage: 2.4+ MB\n"
     ]
    }
   ],
   "source": [
    "df_meteo.info()"
   ]
  }
 ],
 "metadata": {
  "kernelspec": {
   "display_name": "Python 3",
   "language": "python",
   "name": "python3"
  },
  "language_info": {
   "codemirror_mode": {
    "name": "ipython",
    "version": 3
   },
   "file_extension": ".py",
   "mimetype": "text/x-python",
   "name": "python",
   "nbconvert_exporter": "python",
   "pygments_lexer": "ipython3",
   "version": "3.10.11"
  },
  "orig_nbformat": 4
 },
 "nbformat": 4,
 "nbformat_minor": 2
}
