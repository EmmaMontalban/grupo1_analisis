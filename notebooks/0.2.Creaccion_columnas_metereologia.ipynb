{
 "cells": [
  {
   "attachments": {},
   "cell_type": "markdown",
   "metadata": {},
   "source": [
    "## Importar librerías\n"
   ]
  },
  {
   "cell_type": "code",
   "execution_count": 1,
   "metadata": {},
   "outputs": [],
   "source": [
    "import pandas as pd\n",
    "import numpy as np\n",
    "import os\n",
    "import data_util as util"
   ]
  },
  {
   "attachments": {},
   "cell_type": "markdown",
   "metadata": {},
   "source": [
    "## Cargar datos AEMET (json)"
   ]
  },
  {
   "cell_type": "code",
   "execution_count": 2,
   "metadata": {},
   "outputs": [
    {
     "data": {
      "text/html": [
       "<div>\n",
       "<style scoped>\n",
       "    .dataframe tbody tr th:only-of-type {\n",
       "        vertical-align: middle;\n",
       "    }\n",
       "\n",
       "    .dataframe tbody tr th {\n",
       "        vertical-align: top;\n",
       "    }\n",
       "\n",
       "    .dataframe thead th {\n",
       "        text-align: right;\n",
       "    }\n",
       "</style>\n",
       "<table border=\"1\" class=\"dataframe\">\n",
       "  <thead>\n",
       "    <tr style=\"text-align: right;\">\n",
       "      <th></th>\n",
       "      <th>fecha</th>\n",
       "      <th>indicativo</th>\n",
       "      <th>nombre</th>\n",
       "      <th>provincia</th>\n",
       "      <th>altitud</th>\n",
       "      <th>tmed</th>\n",
       "      <th>prec</th>\n",
       "      <th>tmin</th>\n",
       "      <th>horatmin</th>\n",
       "      <th>tmax</th>\n",
       "      <th>horatmax</th>\n",
       "      <th>presMax</th>\n",
       "      <th>horaPresMax</th>\n",
       "      <th>presMin</th>\n",
       "      <th>horaPresMin</th>\n",
       "      <th>dir</th>\n",
       "      <th>velmedia</th>\n",
       "      <th>racha</th>\n",
       "      <th>horaracha</th>\n",
       "    </tr>\n",
       "  </thead>\n",
       "  <tbody>\n",
       "    <tr>\n",
       "      <th>0</th>\n",
       "      <td>2022-01-01</td>\n",
       "      <td>3195</td>\n",
       "      <td>MADRID, RETIRO</td>\n",
       "      <td>MADRID</td>\n",
       "      <td>667</td>\n",
       "      <td>11,1</td>\n",
       "      <td>0,0</td>\n",
       "      <td>5,5</td>\n",
       "      <td>07:10</td>\n",
       "      <td>16,7</td>\n",
       "      <td>14:50</td>\n",
       "      <td>951,5</td>\n",
       "      <td>11</td>\n",
       "      <td>949,3</td>\n",
       "      <td>14</td>\n",
       "      <td>NaN</td>\n",
       "      <td>NaN</td>\n",
       "      <td>NaN</td>\n",
       "      <td>NaN</td>\n",
       "    </tr>\n",
       "    <tr>\n",
       "      <th>1</th>\n",
       "      <td>2022-01-02</td>\n",
       "      <td>3195</td>\n",
       "      <td>MADRID, RETIRO</td>\n",
       "      <td>MADRID</td>\n",
       "      <td>667</td>\n",
       "      <td>9,8</td>\n",
       "      <td>0,0</td>\n",
       "      <td>5,1</td>\n",
       "      <td>07:40</td>\n",
       "      <td>14,5</td>\n",
       "      <td>15:00</td>\n",
       "      <td>952,2</td>\n",
       "      <td>10</td>\n",
       "      <td>949,5</td>\n",
       "      <td>16</td>\n",
       "      <td>NaN</td>\n",
       "      <td>NaN</td>\n",
       "      <td>NaN</td>\n",
       "      <td>NaN</td>\n",
       "    </tr>\n",
       "  </tbody>\n",
       "</table>\n",
       "</div>"
      ],
      "text/plain": [
       "        fecha  indicativo          nombre provincia  altitud  tmed prec tmin  \\\n",
       "0  2022-01-01        3195  MADRID, RETIRO    MADRID      667  11,1  0,0  5,5   \n",
       "1  2022-01-02        3195  MADRID, RETIRO    MADRID      667   9,8  0,0  5,1   \n",
       "\n",
       "  horatmin  tmax horatmax presMax horaPresMax presMin horaPresMin  dir  \\\n",
       "0    07:10  16,7    14:50   951,5          11   949,3          14  NaN   \n",
       "1    07:40  14,5    15:00   952,2          10   949,5          16  NaN   \n",
       "\n",
       "  velmedia racha horaracha  \n",
       "0      NaN   NaN       NaN  \n",
       "1      NaN   NaN       NaN  "
      ]
     },
     "execution_count": 2,
     "metadata": {},
     "output_type": "execute_result"
    }
   ],
   "source": [
    "ruta = '../data/metereologia/ano_2022'\n",
    "ruta_nuevoCSV = '../data/auxiliar/meteo_2022.csv'\n",
    "df_meteo = pd.read_json(ruta)\n",
    "df_meteo.head(2)"
   ]
  },
  {
   "attachments": {},
   "cell_type": "markdown",
   "metadata": {},
   "source": [
    "## Seleccionar columnas\n",
    "\n",
    "Nos quedamos con las columnas que nos interesan para el análisis"
   ]
  },
  {
   "cell_type": "code",
   "execution_count": 3,
   "metadata": {},
   "outputs": [
    {
     "data": {
      "text/plain": [
       "Index(['fecha', 'indicativo', 'nombre', 'provincia', 'altitud', 'tmed', 'prec',\n",
       "       'tmin', 'horatmin', 'tmax', 'horatmax', 'presMax', 'horaPresMax',\n",
       "       'presMin', 'horaPresMin', 'dir', 'velmedia', 'racha', 'horaracha'],\n",
       "      dtype='object')"
      ]
     },
     "execution_count": 3,
     "metadata": {},
     "output_type": "execute_result"
    }
   ],
   "source": [
    "df_meteo.columns"
   ]
  },
  {
   "cell_type": "code",
   "execution_count": 4,
   "metadata": {},
   "outputs": [
    {
     "data": {
      "text/html": [
       "<div>\n",
       "<style scoped>\n",
       "    .dataframe tbody tr th:only-of-type {\n",
       "        vertical-align: middle;\n",
       "    }\n",
       "\n",
       "    .dataframe tbody tr th {\n",
       "        vertical-align: top;\n",
       "    }\n",
       "\n",
       "    .dataframe thead th {\n",
       "        text-align: right;\n",
       "    }\n",
       "</style>\n",
       "<table border=\"1\" class=\"dataframe\">\n",
       "  <thead>\n",
       "    <tr style=\"text-align: right;\">\n",
       "      <th></th>\n",
       "      <th>fecha</th>\n",
       "      <th>tmed</th>\n",
       "      <th>prec</th>\n",
       "      <th>dir</th>\n",
       "      <th>velmedia</th>\n",
       "    </tr>\n",
       "  </thead>\n",
       "  <tbody>\n",
       "    <tr>\n",
       "      <th>0</th>\n",
       "      <td>2022-01-01</td>\n",
       "      <td>11,1</td>\n",
       "      <td>0,0</td>\n",
       "      <td>NaN</td>\n",
       "      <td>NaN</td>\n",
       "    </tr>\n",
       "    <tr>\n",
       "      <th>1</th>\n",
       "      <td>2022-01-02</td>\n",
       "      <td>9,8</td>\n",
       "      <td>0,0</td>\n",
       "      <td>NaN</td>\n",
       "      <td>NaN</td>\n",
       "    </tr>\n",
       "  </tbody>\n",
       "</table>\n",
       "</div>"
      ],
      "text/plain": [
       "        fecha  tmed prec  dir velmedia\n",
       "0  2022-01-01  11,1  0,0  NaN      NaN\n",
       "1  2022-01-02   9,8  0,0  NaN      NaN"
      ]
     },
     "execution_count": 4,
     "metadata": {},
     "output_type": "execute_result"
    }
   ],
   "source": [
    "df_meteo = df_meteo[['fecha', 'tmed', 'prec', 'dir', 'velmedia']]\n",
    "df_meteo.head(2)"
   ]
  },
  {
   "cell_type": "code",
   "execution_count": 5,
   "metadata": {},
   "outputs": [
    {
     "data": {
      "text/plain": [
       "(364, 5)"
      ]
     },
     "execution_count": 5,
     "metadata": {},
     "output_type": "execute_result"
    }
   ],
   "source": [
    "df_meteo.shape"
   ]
  },
  {
   "attachments": {},
   "cell_type": "markdown",
   "metadata": {},
   "source": [
    "## Renombrar columnas"
   ]
  },
  {
   "cell_type": "code",
   "execution_count": 6,
   "metadata": {},
   "outputs": [
    {
     "data": {
      "text/html": [
       "<div>\n",
       "<style scoped>\n",
       "    .dataframe tbody tr th:only-of-type {\n",
       "        vertical-align: middle;\n",
       "    }\n",
       "\n",
       "    .dataframe tbody tr th {\n",
       "        vertical-align: top;\n",
       "    }\n",
       "\n",
       "    .dataframe thead th {\n",
       "        text-align: right;\n",
       "    }\n",
       "</style>\n",
       "<table border=\"1\" class=\"dataframe\">\n",
       "  <thead>\n",
       "    <tr style=\"text-align: right;\">\n",
       "      <th></th>\n",
       "      <th>FECHA</th>\n",
       "      <th>TEMPERATURA</th>\n",
       "      <th>PRECIPITACION</th>\n",
       "      <th>DIR_VIENTO</th>\n",
       "      <th>VEL_VIENTO</th>\n",
       "    </tr>\n",
       "  </thead>\n",
       "  <tbody>\n",
       "    <tr>\n",
       "      <th>0</th>\n",
       "      <td>2022-01-01</td>\n",
       "      <td>11,1</td>\n",
       "      <td>0,0</td>\n",
       "      <td>NaN</td>\n",
       "      <td>NaN</td>\n",
       "    </tr>\n",
       "    <tr>\n",
       "      <th>1</th>\n",
       "      <td>2022-01-02</td>\n",
       "      <td>9,8</td>\n",
       "      <td>0,0</td>\n",
       "      <td>NaN</td>\n",
       "      <td>NaN</td>\n",
       "    </tr>\n",
       "  </tbody>\n",
       "</table>\n",
       "</div>"
      ],
      "text/plain": [
       "        FECHA TEMPERATURA PRECIPITACION  DIR_VIENTO VEL_VIENTO\n",
       "0  2022-01-01        11,1           0,0         NaN        NaN\n",
       "1  2022-01-02         9,8           0,0         NaN        NaN"
      ]
     },
     "execution_count": 6,
     "metadata": {},
     "output_type": "execute_result"
    }
   ],
   "source": [
    "df_meteo = df_meteo.rename(columns={'fecha': 'FECHA', 'tmed': 'TEMPERATURA', 'prec': 'PRECIPITACION', 'dir': 'DIR_VIENTO', 'velmedia': 'VEL_VIENTO'})\n",
    "df_meteo.head(2)"
   ]
  },
  {
   "attachments": {},
   "cell_type": "markdown",
   "metadata": {},
   "source": [
    "## Transformar columna FECHA\n",
    "\n",
    "Transfomar la columna FECHA a formato datatime, para obtener datos horarios"
   ]
  },
  {
   "cell_type": "code",
   "execution_count": 7,
   "metadata": {},
   "outputs": [
    {
     "data": {
      "text/html": [
       "<div>\n",
       "<style scoped>\n",
       "    .dataframe tbody tr th:only-of-type {\n",
       "        vertical-align: middle;\n",
       "    }\n",
       "\n",
       "    .dataframe tbody tr th {\n",
       "        vertical-align: top;\n",
       "    }\n",
       "\n",
       "    .dataframe thead th {\n",
       "        text-align: right;\n",
       "    }\n",
       "</style>\n",
       "<table border=\"1\" class=\"dataframe\">\n",
       "  <thead>\n",
       "    <tr style=\"text-align: right;\">\n",
       "      <th></th>\n",
       "      <th>FECHA</th>\n",
       "      <th>TEMPERATURA</th>\n",
       "      <th>PRECIPITACION</th>\n",
       "      <th>DIR_VIENTO</th>\n",
       "      <th>VEL_VIENTO</th>\n",
       "      <th>HORA</th>\n",
       "    </tr>\n",
       "  </thead>\n",
       "  <tbody>\n",
       "    <tr>\n",
       "      <th>0</th>\n",
       "      <td>2022-01-01 00:00:00</td>\n",
       "      <td>11,1</td>\n",
       "      <td>0,0</td>\n",
       "      <td>NaN</td>\n",
       "      <td>NaN</td>\n",
       "      <td>0.0</td>\n",
       "    </tr>\n",
       "    <tr>\n",
       "      <th>1</th>\n",
       "      <td>2022-01-01 01:00:00</td>\n",
       "      <td>NaN</td>\n",
       "      <td>NaN</td>\n",
       "      <td>NaN</td>\n",
       "      <td>NaN</td>\n",
       "      <td>NaN</td>\n",
       "    </tr>\n",
       "  </tbody>\n",
       "</table>\n",
       "</div>"
      ],
      "text/plain": [
       "                FECHA TEMPERATURA PRECIPITACION  DIR_VIENTO VEL_VIENTO  HORA\n",
       "0 2022-01-01 00:00:00        11,1           0,0         NaN        NaN   0.0\n",
       "1 2022-01-01 01:00:00         NaN           NaN         NaN        NaN   NaN"
      ]
     },
     "execution_count": 7,
     "metadata": {},
     "output_type": "execute_result"
    }
   ],
   "source": [
    "df_meteo['FECHA'] = pd.to_datetime(df_meteo['FECHA'])\n",
    "df_meteo['HORA'] = df_meteo['FECHA'].dt.hour\n",
    "df_meteo.set_index('FECHA', inplace=True)\n",
    "date_range = pd.date_range(start=df_meteo.index.min(), end=df_meteo.index.max(), freq='H')\n",
    "df_meteo = df_meteo.reindex(date_range)\n",
    "df_meteo.sort_index(inplace=True)\n",
    "df_meteo.reset_index(inplace=True)\n",
    "df_meteo.rename(columns={'index': 'FECHA'}, inplace=True)\n",
    "df_meteo.head(2)"
   ]
  },
  {
   "cell_type": "code",
   "execution_count": 8,
   "metadata": {},
   "outputs": [
    {
     "data": {
      "text/plain": [
       "(8737, 6)"
      ]
     },
     "execution_count": 8,
     "metadata": {},
     "output_type": "execute_result"
    }
   ],
   "source": [
    "df_meteo.shape"
   ]
  },
  {
   "attachments": {},
   "cell_type": "markdown",
   "metadata": {},
   "source": [
    "## Rellenar los valores nulos\n",
    "\n",
    "El método escogido es el último valor válido anterior, para que los datos horarios se rellenen con los datos que correponden a cada día"
   ]
  },
  {
   "cell_type": "code",
   "execution_count": 9,
   "metadata": {},
   "outputs": [
    {
     "data": {
      "text/html": [
       "<div>\n",
       "<style scoped>\n",
       "    .dataframe tbody tr th:only-of-type {\n",
       "        vertical-align: middle;\n",
       "    }\n",
       "\n",
       "    .dataframe tbody tr th {\n",
       "        vertical-align: top;\n",
       "    }\n",
       "\n",
       "    .dataframe thead th {\n",
       "        text-align: right;\n",
       "    }\n",
       "</style>\n",
       "<table border=\"1\" class=\"dataframe\">\n",
       "  <thead>\n",
       "    <tr style=\"text-align: right;\">\n",
       "      <th></th>\n",
       "      <th>FECHA</th>\n",
       "      <th>TEMPERATURA</th>\n",
       "      <th>PRECIPITACION</th>\n",
       "      <th>DIR_VIENTO</th>\n",
       "      <th>VEL_VIENTO</th>\n",
       "      <th>HORA</th>\n",
       "    </tr>\n",
       "  </thead>\n",
       "  <tbody>\n",
       "    <tr>\n",
       "      <th>0</th>\n",
       "      <td>2022-01-01 00:00:00</td>\n",
       "      <td>11,1</td>\n",
       "      <td>0,0</td>\n",
       "      <td>NaN</td>\n",
       "      <td>NaN</td>\n",
       "      <td>0.0</td>\n",
       "    </tr>\n",
       "    <tr>\n",
       "      <th>1</th>\n",
       "      <td>2022-01-01 01:00:00</td>\n",
       "      <td>11,1</td>\n",
       "      <td>0,0</td>\n",
       "      <td>NaN</td>\n",
       "      <td>NaN</td>\n",
       "      <td>0.0</td>\n",
       "    </tr>\n",
       "  </tbody>\n",
       "</table>\n",
       "</div>"
      ],
      "text/plain": [
       "                FECHA TEMPERATURA PRECIPITACION  DIR_VIENTO VEL_VIENTO  HORA\n",
       "0 2022-01-01 00:00:00        11,1           0,0         NaN        NaN   0.0\n",
       "1 2022-01-01 01:00:00        11,1           0,0         NaN        NaN   0.0"
      ]
     },
     "execution_count": 9,
     "metadata": {},
     "output_type": "execute_result"
    }
   ],
   "source": [
    "# Otra alternativa mejor es llenarlos con último valor válido anterior:\n",
    "df_meteo.fillna(method='ffill', inplace = True )\n",
    "df_meteo.head(2)"
   ]
  },
  {
   "attachments": {},
   "cell_type": "markdown",
   "metadata": {},
   "source": [
    "## Transformar valores\n",
    "\n",
    "Se transforman los valores para que tengan el formato correcto"
   ]
  },
  {
   "cell_type": "code",
   "execution_count": 10,
   "metadata": {},
   "outputs": [
    {
     "data": {
      "text/html": [
       "<div>\n",
       "<style scoped>\n",
       "    .dataframe tbody tr th:only-of-type {\n",
       "        vertical-align: middle;\n",
       "    }\n",
       "\n",
       "    .dataframe tbody tr th {\n",
       "        vertical-align: top;\n",
       "    }\n",
       "\n",
       "    .dataframe thead th {\n",
       "        text-align: right;\n",
       "    }\n",
       "</style>\n",
       "<table border=\"1\" class=\"dataframe\">\n",
       "  <thead>\n",
       "    <tr style=\"text-align: right;\">\n",
       "      <th></th>\n",
       "      <th>FECHA</th>\n",
       "      <th>TEMPERATURA</th>\n",
       "      <th>PRECIPITACION</th>\n",
       "      <th>DIR_VIENTO</th>\n",
       "      <th>VEL_VIENTO</th>\n",
       "      <th>HORA</th>\n",
       "    </tr>\n",
       "  </thead>\n",
       "  <tbody>\n",
       "    <tr>\n",
       "      <th>0</th>\n",
       "      <td>2022-01-01 00:00:00</td>\n",
       "      <td>11.1</td>\n",
       "      <td>0.0</td>\n",
       "      <td>NaN</td>\n",
       "      <td>NaN</td>\n",
       "      <td>0.0</td>\n",
       "    </tr>\n",
       "    <tr>\n",
       "      <th>1</th>\n",
       "      <td>2022-01-01 01:00:00</td>\n",
       "      <td>11.1</td>\n",
       "      <td>0.0</td>\n",
       "      <td>NaN</td>\n",
       "      <td>NaN</td>\n",
       "      <td>0.0</td>\n",
       "    </tr>\n",
       "  </tbody>\n",
       "</table>\n",
       "</div>"
      ],
      "text/plain": [
       "                FECHA  TEMPERATURA  PRECIPITACION  DIR_VIENTO  VEL_VIENTO  \\\n",
       "0 2022-01-01 00:00:00         11.1            0.0         NaN         NaN   \n",
       "1 2022-01-01 01:00:00         11.1            0.0         NaN         NaN   \n",
       "\n",
       "   HORA  \n",
       "0   0.0  \n",
       "1   0.0  "
      ]
     },
     "execution_count": 10,
     "metadata": {},
     "output_type": "execute_result"
    }
   ],
   "source": [
    "# Reemplazar las comas por puntos en la columna\n",
    "df_meteo['TEMPERATURA'] = df_meteo['TEMPERATURA'].str.replace(',', '.')\n",
    "df_meteo['PRECIPITACION'] = df_meteo['PRECIPITACION'].str.replace(',', '.')\n",
    "df_meteo['VEL_VIENTO'] = df_meteo['VEL_VIENTO'].str.replace(',', '.')\n",
    "\n",
    "# Convertir las columnas a los tipos de datos adecuados\n",
    "df_meteo['TEMPERATURA'] = df_meteo['TEMPERATURA'].astype(float)\n",
    "df_meteo['PRECIPITACION'] = df_meteo['PRECIPITACION'].astype(float)\n",
    "df_meteo['VEL_VIENTO'] = df_meteo['VEL_VIENTO'].astype(float)\n",
    "\n",
    "df_meteo.head(2)"
   ]
  },
  {
   "cell_type": "code",
   "execution_count": 11,
   "metadata": {},
   "outputs": [
    {
     "name": "stdout",
     "output_type": "stream",
     "text": [
      "DIR_VIENTO 2160 / 8737= 24.72 %\n",
      "VEL_VIENTO 2160 / 8737= 24.72 %\n"
     ]
    }
   ],
   "source": [
    "util.calc_missing(df_meteo)"
   ]
  },
  {
   "cell_type": "markdown",
   "metadata": {},
   "source": [
    "## Salvar datos preprocesados"
   ]
  },
  {
   "cell_type": "code",
   "execution_count": 12,
   "metadata": {},
   "outputs": [
    {
     "data": {
      "text/plain": [
       "FECHA               0\n",
       "TEMPERATURA         0\n",
       "PRECIPITACION       0\n",
       "DIR_VIENTO       2160\n",
       "VEL_VIENTO       2160\n",
       "HORA                0\n",
       "dtype: int64"
      ]
     },
     "execution_count": 12,
     "metadata": {},
     "output_type": "execute_result"
    }
   ],
   "source": [
    "df_meteo.isnull().sum()"
   ]
  },
  {
   "cell_type": "code",
   "execution_count": 13,
   "metadata": {},
   "outputs": [],
   "source": [
    "\n",
    "df_meteo.to_csv(ruta_nuevoCSV, index=False) # Salvado con todos los datos"
   ]
  }
 ],
 "metadata": {
  "kernelspec": {
   "display_name": "Python 3",
   "language": "python",
   "name": "python3"
  },
  "language_info": {
   "codemirror_mode": {
    "name": "ipython",
    "version": 3
   },
   "file_extension": ".py",
   "mimetype": "text/x-python",
   "name": "python",
   "nbconvert_exporter": "python",
   "pygments_lexer": "ipython3",
   "version": "3.10.11"
  },
  "orig_nbformat": 4
 },
 "nbformat": 4,
 "nbformat_minor": 2
}
