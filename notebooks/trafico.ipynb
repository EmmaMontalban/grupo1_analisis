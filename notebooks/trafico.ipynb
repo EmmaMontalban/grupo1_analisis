{
 "cells": [
  {
   "cell_type": "code",
   "execution_count": 37,
   "metadata": {},
   "outputs": [],
   "source": [
    "import pandas as pd\n",
    "import os"
   ]
  },
  {
   "cell_type": "code",
   "execution_count": 38,
   "metadata": {},
   "outputs": [
    {
     "data": {
      "text/plain": [
       "['2018_DATOS_AFOROS_NP.csv',\n",
       " '2018_LISTADO_UBICACIONES_NP.csv',\n",
       " '2019_DATOS_AFOROS_NP.csv',\n",
       " '2019_LISTADO_UBICACIONES_NP.csv',\n",
       " '2020_DATOS_AFOROS_NP.csv',\n",
       " '2020_LISTADO_UBICACIONES_NP.csv',\n",
       " '2021_DATOS_AFOROS_NP.csv',\n",
       " '2021_LISTADO_UBICACIONES_NP.csv']"
      ]
     },
     "execution_count": 38,
     "metadata": {},
     "output_type": "execute_result"
    }
   ],
   "source": [
    "file_names = os.listdir('../data/trafico/no_permanente/')\n",
    "file_names"
   ]
  },
  {
   "cell_type": "code",
   "execution_count": 39,
   "metadata": {},
   "outputs": [
    {
     "name": "stderr",
     "output_type": "stream",
     "text": [
      "C:\\Users\\emona\\AppData\\Local\\Temp\\ipykernel_8024\\74740823.py:3: DtypeWarning: Columns (0,2,22,23,26,27,30,31,34,35,38,39,42,43,46,47,50,51,54,55,58,59,62,63) have mixed types. Specify dtype option on import or set low_memory=False.\n",
      "  df_current = pd.read_csv('../data/trafico/no_permanente/' + file_name, delimiter=';')\n"
     ]
    },
    {
     "name": "stdout",
     "output_type": "stream",
     "text": [
      "2018_DATOS_AFOROS_NP.csv (273356, 68)\n",
      "2018_LISTADO_UBICACIONES_NP.csv (1682, 8)\n"
     ]
    },
    {
     "name": "stderr",
     "output_type": "stream",
     "text": [
      "C:\\Users\\emona\\AppData\\Local\\Temp\\ipykernel_8024\\74740823.py:3: DtypeWarning: Columns (0) have mixed types. Specify dtype option on import or set low_memory=False.\n",
      "  df_current = pd.read_csv('../data/trafico/no_permanente/' + file_name, delimiter=';')\n"
     ]
    },
    {
     "name": "stdout",
     "output_type": "stream",
     "text": [
      "2019_DATOS_AFOROS_NP.csv (348084, 66)\n",
      "2019_LISTADO_UBICACIONES_NP.csv (2116, 8)\n"
     ]
    },
    {
     "name": "stderr",
     "output_type": "stream",
     "text": [
      "C:\\Users\\emona\\AppData\\Local\\Temp\\ipykernel_8024\\74740823.py:3: DtypeWarning: Columns (0,4,5) have mixed types. Specify dtype option on import or set low_memory=False.\n",
      "  df_current = pd.read_csv('../data/trafico/no_permanente/' + file_name, delimiter=';')\n"
     ]
    },
    {
     "name": "stdout",
     "output_type": "stream",
     "text": [
      "2020_DATOS_AFOROS_NP.csv (682147, 67)\n",
      "2020_LISTADO_UBICACIONES_NP.csv (3528, 8)\n"
     ]
    },
    {
     "name": "stderr",
     "output_type": "stream",
     "text": [
      "C:\\Users\\emona\\AppData\\Local\\Temp\\ipykernel_8024\\74740823.py:3: DtypeWarning: Columns (0,5,6) have mixed types. Specify dtype option on import or set low_memory=False.\n",
      "  df_current = pd.read_csv('../data/trafico/no_permanente/' + file_name, delimiter=';')\n"
     ]
    },
    {
     "name": "stdout",
     "output_type": "stream",
     "text": [
      "2021_DATOS_AFOROS_NP.csv (282864, 66)\n",
      "2021_LISTADO_UBICACIONES_NP.csv (1898, 8)\n"
     ]
    }
   ],
   "source": [
    "df_ubicacion = pd.DataFrame()\n",
    "for file_name in file_names:\n",
    "    df_current = pd.read_csv('../data/trafico/no_permanente/' + file_name, delimiter=';')\n",
    "    print(file_name, df_current.shape)\n",
    "    df_ubicacion = pd.concat([df_ubicacion, df_current], ignore_index=True)"
   ]
  },
  {
   "cell_type": "code",
   "execution_count": 40,
   "metadata": {},
   "outputs": [
    {
     "data": {
      "text/plain": [
       "(1595675, 74)"
      ]
     },
     "execution_count": 40,
     "metadata": {},
     "output_type": "execute_result"
    }
   ],
   "source": [
    "df_ubicacion.shape"
   ]
  },
  {
   "cell_type": "code",
   "execution_count": 41,
   "metadata": {},
   "outputs": [
    {
     "data": {
      "text/plain": [
       "['2018_DATOS_AFOROS_NP.csv',\n",
       " '2018_LISTADO_UBICACIONES_NP.csv',\n",
       " '2019_DATOS_AFOROS_NP.csv',\n",
       " '2019_LISTADO_UBICACIONES_NP.csv',\n",
       " '2020_DATOS_AFOROS_NP.csv',\n",
       " '2020_LISTADO_UBICACIONES_NP.csv',\n",
       " '2021_DATOS_AFOROS_NP.csv',\n",
       " '2021_LISTADO_UBICACIONES_NP.csv']"
      ]
     },
     "execution_count": 41,
     "metadata": {},
     "output_type": "execute_result"
    }
   ],
   "source": [
    "file_names = os.listdir('../data/trafico/no_permanente/')\n",
    "file_names"
   ]
  },
  {
   "cell_type": "code",
   "execution_count": 42,
   "metadata": {},
   "outputs": [
    {
     "name": "stderr",
     "output_type": "stream",
     "text": [
      "C:\\Users\\emona\\AppData\\Local\\Temp\\ipykernel_8024\\3419258039.py:3: DtypeWarning: Columns (0,2,22,23,26,27,30,31,34,35,38,39,42,43,46,47,50,51,54,55,58,59,62,63) have mixed types. Specify dtype option on import or set low_memory=False.\n",
      "  df_current = pd.read_csv('../data/trafico/no_permanente/' + file_name, delimiter=';')\n"
     ]
    },
    {
     "name": "stdout",
     "output_type": "stream",
     "text": [
      "2018_DATOS_AFOROS_NP.csv (273356, 68)\n",
      "2018_LISTADO_UBICACIONES_NP.csv (1682, 8)\n"
     ]
    },
    {
     "name": "stderr",
     "output_type": "stream",
     "text": [
      "C:\\Users\\emona\\AppData\\Local\\Temp\\ipykernel_8024\\3419258039.py:3: DtypeWarning: Columns (0) have mixed types. Specify dtype option on import or set low_memory=False.\n",
      "  df_current = pd.read_csv('../data/trafico/no_permanente/' + file_name, delimiter=';')\n"
     ]
    },
    {
     "name": "stdout",
     "output_type": "stream",
     "text": [
      "2019_DATOS_AFOROS_NP.csv (348084, 66)\n",
      "2019_LISTADO_UBICACIONES_NP.csv (2116, 8)\n"
     ]
    },
    {
     "name": "stderr",
     "output_type": "stream",
     "text": [
      "C:\\Users\\emona\\AppData\\Local\\Temp\\ipykernel_8024\\3419258039.py:3: DtypeWarning: Columns (0,4,5) have mixed types. Specify dtype option on import or set low_memory=False.\n",
      "  df_current = pd.read_csv('../data/trafico/no_permanente/' + file_name, delimiter=';')\n"
     ]
    },
    {
     "name": "stdout",
     "output_type": "stream",
     "text": [
      "2020_DATOS_AFOROS_NP.csv (682147, 67)\n",
      "2020_LISTADO_UBICACIONES_NP.csv (3528, 8)\n"
     ]
    },
    {
     "name": "stderr",
     "output_type": "stream",
     "text": [
      "C:\\Users\\emona\\AppData\\Local\\Temp\\ipykernel_8024\\3419258039.py:3: DtypeWarning: Columns (0,5,6) have mixed types. Specify dtype option on import or set low_memory=False.\n",
      "  df_current = pd.read_csv('../data/trafico/no_permanente/' + file_name, delimiter=';')\n"
     ]
    },
    {
     "name": "stdout",
     "output_type": "stream",
     "text": [
      "2021_DATOS_AFOROS_NP.csv (282864, 66)\n",
      "2021_LISTADO_UBICACIONES_NP.csv (1898, 8)\n"
     ]
    }
   ],
   "source": [
    "df_trafico = pd.DataFrame()\n",
    "for file_name in file_names:\n",
    "    df_current = pd.read_csv('../data/trafico/no_permanente/' + file_name, delimiter=';')\n",
    "    print(file_name, df_current.shape)\n",
    "    df_trafico = pd.concat([df_trafico, df_current], ignore_index=True)"
   ]
  },
  {
   "cell_type": "code",
   "execution_count": 43,
   "metadata": {},
   "outputs": [
    {
     "data": {
      "text/plain": [
       "(1595675, 74)"
      ]
     },
     "execution_count": 43,
     "metadata": {},
     "output_type": "execute_result"
    }
   ],
   "source": [
    "df_trafico.shape"
   ]
  },
  {
   "cell_type": "code",
   "execution_count": 44,
   "metadata": {},
   "outputs": [
    {
     "data": {
      "text/html": [
       "<div>\n",
       "<style scoped>\n",
       "    .dataframe tbody tr th:only-of-type {\n",
       "        vertical-align: middle;\n",
       "    }\n",
       "\n",
       "    .dataframe tbody tr th {\n",
       "        vertical-align: top;\n",
       "    }\n",
       "\n",
       "    .dataframe thead th {\n",
       "        text-align: right;\n",
       "    }\n",
       "</style>\n",
       "<table border=\"1\" class=\"dataframe\">\n",
       "  <thead>\n",
       "    <tr style=\"text-align: right;\">\n",
       "      <th></th>\n",
       "      <th>CODIGO</th>\n",
       "      <th>LATITUD</th>\n",
       "      <th>LONGITUD</th>\n",
       "      <th>FECHA</th>\n",
       "      <th>HORA</th>\n",
       "      <th>TOTAL</th>\n",
       "      <th>VEHICULOS LIGEROS</th>\n",
       "      <th>VEHICULOS 2 RUEDAS</th>\n",
       "      <th>VEHICULOS PESADOS</th>\n",
       "      <th>VEHIC. DESCONOCIDO</th>\n",
       "      <th>...</th>\n",
       "      <th>VEHIC. 2 RUEDAS VEL_100-110</th>\n",
       "      <th>VEHIC. DESCONOCIDO VEL_100-110</th>\n",
       "      <th>Unnamed: 66</th>\n",
       "      <th>VEHIC. DESCONOCIDO VEL_100-110.1</th>\n",
       "      <th>NOMBRE CRUCE</th>\n",
       "      <th>TRAMO</th>\n",
       "      <th>SENTIDO</th>\n",
       "      <th>DESDE</th>\n",
       "      <th>HASTA</th>\n",
       "      <th>VEHIC. 2 RUEDAS</th>\n",
       "    </tr>\n",
       "  </thead>\n",
       "  <tbody>\n",
       "    <tr>\n",
       "      <th>0</th>\n",
       "      <td>1010163</td>\n",
       "      <td>40.41567</td>\n",
       "      <td>-3.71357</td>\n",
       "      <td>19/04/2018</td>\n",
       "      <td>13.0</td>\n",
       "      <td>89.0</td>\n",
       "      <td>89.0</td>\n",
       "      <td>NaN</td>\n",
       "      <td>NaN</td>\n",
       "      <td>NaN</td>\n",
       "      <td>...</td>\n",
       "      <td>NaN</td>\n",
       "      <td>NaN</td>\n",
       "      <td>NaN</td>\n",
       "      <td>NaN</td>\n",
       "      <td>NaN</td>\n",
       "      <td>NaN</td>\n",
       "      <td>NaN</td>\n",
       "      <td>NaN</td>\n",
       "      <td>NaN</td>\n",
       "      <td>NaN</td>\n",
       "    </tr>\n",
       "    <tr>\n",
       "      <th>1</th>\n",
       "      <td>1010163</td>\n",
       "      <td>40.41567</td>\n",
       "      <td>-3.71357</td>\n",
       "      <td>19/04/2018</td>\n",
       "      <td>14.0</td>\n",
       "      <td>68.0</td>\n",
       "      <td>68.0</td>\n",
       "      <td>NaN</td>\n",
       "      <td>NaN</td>\n",
       "      <td>NaN</td>\n",
       "      <td>...</td>\n",
       "      <td>NaN</td>\n",
       "      <td>NaN</td>\n",
       "      <td>NaN</td>\n",
       "      <td>NaN</td>\n",
       "      <td>NaN</td>\n",
       "      <td>NaN</td>\n",
       "      <td>NaN</td>\n",
       "      <td>NaN</td>\n",
       "      <td>NaN</td>\n",
       "      <td>NaN</td>\n",
       "    </tr>\n",
       "  </tbody>\n",
       "</table>\n",
       "<p>2 rows × 74 columns</p>\n",
       "</div>"
      ],
      "text/plain": [
       "    CODIGO   LATITUD LONGITUD       FECHA  HORA TOTAL VEHICULOS LIGEROS   \n",
       "0  1010163  40.41567 -3.71357  19/04/2018  13.0  89.0              89.0  \\\n",
       "1  1010163  40.41567 -3.71357  19/04/2018  14.0  68.0              68.0   \n",
       "\n",
       "   VEHICULOS 2 RUEDAS  VEHICULOS PESADOS  VEHIC. DESCONOCIDO  ...   \n",
       "0                 NaN                NaN                 NaN  ...  \\\n",
       "1                 NaN                NaN                 NaN  ...   \n",
       "\n",
       "   VEHIC. 2 RUEDAS VEL_100-110  VEHIC. DESCONOCIDO VEL_100-110  Unnamed: 66   \n",
       "0                          NaN                             NaN          NaN  \\\n",
       "1                          NaN                             NaN          NaN   \n",
       "\n",
       "   VEHIC. DESCONOCIDO VEL_100-110.1  NOMBRE CRUCE  TRAMO  SENTIDO  DESDE   \n",
       "0                               NaN           NaN    NaN      NaN    NaN  \\\n",
       "1                               NaN           NaN    NaN      NaN    NaN   \n",
       "\n",
       "   HASTA  VEHIC. 2 RUEDAS  \n",
       "0    NaN              NaN  \n",
       "1    NaN              NaN  \n",
       "\n",
       "[2 rows x 74 columns]"
      ]
     },
     "execution_count": 44,
     "metadata": {},
     "output_type": "execute_result"
    }
   ],
   "source": [
    "df_trafico.head(2)"
   ]
  },
  {
   "cell_type": "code",
   "execution_count": 45,
   "metadata": {},
   "outputs": [
    {
     "name": "stdout",
     "output_type": "stream",
     "text": [
      "<class 'pandas.core.frame.DataFrame'>\n",
      "RangeIndex: 1595675 entries, 0 to 1595674\n",
      "Data columns (total 74 columns):\n",
      " #   Column                            Non-Null Count    Dtype  \n",
      "---  ------                            --------------    -----  \n",
      " 0   CODIGO                            1594806 non-null  object \n",
      " 1   LATITUD                           1593666 non-null  object \n",
      " 2   LONGITUD                          1593666 non-null  object \n",
      " 3   FECHA                             1579291 non-null  object \n",
      " 4   HORA                              1579291 non-null  object \n",
      " 5   TOTAL                             1579236 non-null  object \n",
      " 6   VEHICULOS LIGEROS                 987189 non-null   object \n",
      " 7   VEHICULOS 2 RUEDAS                119691 non-null   float64\n",
      " 8   VEHICULOS PESADOS                 102109 non-null   float64\n",
      " 9   VEHIC. DESCONOCIDO                120429 non-null   float64\n",
      " 10  VEL_0-10                          125387 non-null   float64\n",
      " 11  VEL_10-20                         125387 non-null   float64\n",
      " 12  VEL_20-30                         125387 non-null   float64\n",
      " 13  VEL_30-40                         125387 non-null   float64\n",
      " 14  VEL_40-50                         125387 non-null   float64\n",
      " 15  VEL_50-60                         125387 non-null   float64\n",
      " 16  VEL_60-70                         125387 non-null   float64\n",
      " 17  VEL_70-80                         125387 non-null   float64\n",
      " 18  VEL_80-90                         125387 non-null   float64\n",
      " 19  VEL_90-100                        125387 non-null   float64\n",
      " 20  VEL_100-110                       128503 non-null   float64\n",
      " 21  VEL_110-120                       15968 non-null    float64\n",
      " 22  VEHICULOS LIGEROS VEL_0-10        113159 non-null   object \n",
      " 23  VEHICULOS PESADOS VEL_0-10        113159 non-null   object \n",
      " 24  VEHIC. 2 RUEDAS VEL_0-10          113159 non-null   float64\n",
      " 25  VEHIC. DESCONOCIDO VEL_0-10       113159 non-null   float64\n",
      " 26  VEHICULOS LIGEROS VEL_10-20       113159 non-null   object \n",
      " 27  VEHICULOS PESADOS VEL_10-20       113159 non-null   object \n",
      " 28  VEHIC. 2 RUEDAS VEL_10-20         113159 non-null   float64\n",
      " 29  VEHIC. DESCONOCIDO VEL_10-20      113159 non-null   float64\n",
      " 30  VEHICULOS LIGEROS VEL_20-30       113159 non-null   object \n",
      " 31  VEHICULOS PESADOS VEL_20-30       113159 non-null   object \n",
      " 32  VEHIC. 2 RUEDAS VEL_20-30         113159 non-null   float64\n",
      " 33  VEHIC. DESCONOCIDO VEL_20-30      113159 non-null   float64\n",
      " 34  VEHICULOS LIGEROS VEL_30-40       113159 non-null   object \n",
      " 35  VEHICULOS PESADOS VEL_30-40       113159 non-null   object \n",
      " 36  VEHIC. 2 RUEDAS VEL_30-40         113159 non-null   float64\n",
      " 37  VEHIC. DESCONOCIDO VEL_30-40      113159 non-null   float64\n",
      " 38  VEHICULOS LIGEROS VEL_40-50       113159 non-null   object \n",
      " 39  VEHICULOS PESADOS VEL_40-50       113159 non-null   object \n",
      " 40  VEHIC. 2 RUEDAS VEL_40-50         113159 non-null   float64\n",
      " 41  VEHIC. DESCONOCIDO VEL_40-50      113159 non-null   float64\n",
      " 42  VEHICULOS LIGEROS VEL_50-60       113159 non-null   object \n",
      " 43  VEHICULOS PESADOS VEL_50-60       113159 non-null   object \n",
      " 44  VEHIC. 2 RUEDAS VEL_50-60         113159 non-null   float64\n",
      " 45  VEHIC. DESCONOCIDO VEL_50-60      113159 non-null   float64\n",
      " 46  VEHICULOS LIGEROS VEL_60-70       113159 non-null   object \n",
      " 47  VEHICULOS PESADOS VEL_60-70       113159 non-null   object \n",
      " 48  VEHIC. 2 RUEDAS VEL_60-70         113159 non-null   float64\n",
      " 49  VEHIC. DESCONOCIDO VEL_60-70      113159 non-null   float64\n",
      " 50  VEHICULOS LIGEROS VEL_70-80       113159 non-null   object \n",
      " 51  VEHICULOS PESADOS VEL_70-80       113159 non-null   object \n",
      " 52  VEHIC. 2 RUEDAS VEL_70-80         113159 non-null   float64\n",
      " 53  VEHIC. DESCONOCIDO VEL_70-80      113159 non-null   float64\n",
      " 54  VEHICULOS LIGEROS VEL_80-90       113159 non-null   object \n",
      " 55  VEHICULOS PESADOS VEL_80-90       113159 non-null   object \n",
      " 56  VEHIC. 2 RUEDAS VEL_80-90         113159 non-null   float64\n",
      " 57  VEHIC. DESCONOCIDO VEL_80-90      113159 non-null   float64\n",
      " 58  VEHICULOS LIGEROS VEL_90-100      113159 non-null   object \n",
      " 59  VEHICULOS PESADOS VEL_90-100      113159 non-null   object \n",
      " 60  VEHIC. 2 RUEDAS VEL_90-100        110043 non-null   float64\n",
      " 61  VEHIC. DESCONOCIDO VEL_90-100     110043 non-null   float64\n",
      " 62  VEHICULOS LIGEROS VEL_100-110     110043 non-null   object \n",
      " 63  VEHICULOS PESADOS VEL_100-110     110043 non-null   object \n",
      " 64  VEHIC. 2 RUEDAS VEL_100-110       110043 non-null   float64\n",
      " 65  VEHIC. DESCONOCIDO VEL_100-110    110043 non-null   float64\n",
      " 66  Unnamed: 66                       69056 non-null    float64\n",
      " 67  VEHIC. DESCONOCIDO VEL_100-110.1  69056 non-null    float64\n",
      " 68  NOMBRE CRUCE                      9011 non-null     object \n",
      " 69  TRAMO                             9011 non-null     object \n",
      " 70  SENTIDO                           9009 non-null     object \n",
      " 71  DESDE                             9011 non-null     object \n",
      " 72  HASTA                             9011 non-null     object \n",
      " 73  VEHIC. 2 RUEDAS                   6504 non-null     float64\n",
      "dtypes: float64(40), object(34)\n",
      "memory usage: 900.9+ MB\n"
     ]
    }
   ],
   "source": [
    "df_trafico.info()"
   ]
  }
 ],
 "metadata": {
  "kernelspec": {
   "display_name": "Python 3",
   "language": "python",
   "name": "python3"
  },
  "language_info": {
   "codemirror_mode": {
    "name": "ipython",
    "version": 3
   },
   "file_extension": ".py",
   "mimetype": "text/x-python",
   "name": "python",
   "nbconvert_exporter": "python",
   "pygments_lexer": "ipython3",
   "version": "3.10.11"
  },
  "orig_nbformat": 4
 },
 "nbformat": 4,
 "nbformat_minor": 2
}
