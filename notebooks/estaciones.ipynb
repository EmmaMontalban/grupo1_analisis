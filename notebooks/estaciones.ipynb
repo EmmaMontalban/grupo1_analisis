{
 "cells": [
  {
   "cell_type": "code",
   "execution_count": 7,
   "metadata": {},
   "outputs": [],
   "source": [
    "import pandas as pd\n"
   ]
  },
  {
   "cell_type": "code",
   "execution_count": 15,
   "metadata": {},
   "outputs": [
    {
     "data": {
      "text/html": [
       "<div>\n",
       "<style scoped>\n",
       "    .dataframe tbody tr th:only-of-type {\n",
       "        vertical-align: middle;\n",
       "    }\n",
       "\n",
       "    .dataframe tbody tr th {\n",
       "        vertical-align: top;\n",
       "    }\n",
       "\n",
       "    .dataframe thead th {\n",
       "        text-align: right;\n",
       "    }\n",
       "</style>\n",
       "<table border=\"1\" class=\"dataframe\">\n",
       "  <thead>\n",
       "    <tr style=\"text-align: right;\">\n",
       "      <th></th>\n",
       "      <th></th>\n",
       "      <th>CODIGO;CODIGO_CORTO;ESTACION;DIRECCION;LONGITUD_ETRS89;LATITUD_ETRS89;ALTITUD;COD_TIPO;NOM_TIPO;NO2;SO2;CO;PM10;PM2_5;O3;BTX;COD_VIA;VIA_CLASE;VIA_PAR;VIA_NOMBRE;Fecha alta;COORDENADA_X_ETRS89;COORDENADA_Y_ETRS89;LONGITUD;LATITUD</th>\n",
       "    </tr>\n",
       "  </thead>\n",
       "  <tbody>\n",
       "    <tr>\n",
       "      <th>28079004;4;Plaza de España;Plaza de España;\"3°42'43.91\"\"O\";\"40°25'25.98\"\"N\";637;UT;Urbana tráfico;X;X;X;;;;;273600;PLAZA;DE;ESPAÑA;01/12/1998;439579</th>\n",
       "      <th>3291;4475049</th>\n",
       "      <td>263;-3.7122567;40.4238823</td>\n",
       "    </tr>\n",
       "    <tr>\n",
       "      <th>28079008;8;Escuelas Aguirre;Entre C/ Alcalá y C/ O’ Donell ;\"3°40'56.22\"\"O\";\"40°25'17.63\"\"N\";672;UT;Urbana tráfico;X;X;X;X;X;X;X;18900;CALLE;DE;ALCALA;01/12/1998;442117</th>\n",
       "      <th>2366;4474770</th>\n",
       "      <td>696;-3.6823158;40.4215533</td>\n",
       "    </tr>\n",
       "    <tr>\n",
       "      <th>28079011;11;Ramón y Cajal;Avda. Ramón y Cajal  esq. C/ Príncipe de Vergara;\"3°40'38.50\"\"O\";\"40°27'5.29\"\"N\";708;UT;Urbana tráfico;X;;;;;;X;610450;CALLE;DEL;PRINCIPE DE VERGARA;01/12/1998;442564</th>\n",
       "      <th>0457;4478088</th>\n",
       "      <td>595;-3.6773491;40.4514734</td>\n",
       "    </tr>\n",
       "    <tr>\n",
       "      <th>28079016;16;Arturo Soria;C/ Arturo Soria  esq. C/  Vizconde de los Asilos ;\"3°38'21.17\"\"O\";\"40°26'24.20\"\"N\";695;UF;Urbana fondo;X;;;;;X;;798700;CALLE;DEL;VIZCONDE DE LOS ASILOS;01/12/1998;445786</th>\n",
       "      <th>1729;4476796</th>\n",
       "      <td>019;-3.6392422;40.4400457</td>\n",
       "    </tr>\n",
       "    <tr>\n",
       "      <th>28079017;17;Villaverde;C/ Juan Peñalver;\"3°42'47.89\"\"O\";\"40°20'49.74\"\"N\";601;UF;Urbana fondo;X;;;;;X;;417200;CALLE;DE;JUAN PEÑALVER;01/12/1998;439420</th>\n",
       "      <th>7015;4466532</th>\n",
       "      <td>455;-3.7133167;40.347147</td>\n",
       "    </tr>\n",
       "  </tbody>\n",
       "</table>\n",
       "</div>"
      ],
      "text/plain": [
       "                                                                CODIGO;CODIGO_CORTO;ESTACION;DIRECCION;LONGITUD_ETRS89;LATITUD_ETRS89;ALTITUD;COD_TIPO;NOM_TIPO;NO2;SO2;CO;PM10;PM2_5;O3;BTX;COD_VIA;VIA_CLASE;VIA_PAR;VIA_NOMBRE;Fecha alta;COORDENADA_X_ETRS89;COORDENADA_Y_ETRS89;LONGITUD;LATITUD\n",
       "28079004;4;Plaza de España;Plaza de España;\"3°4... 3291;4475049                          263;-3.7122567;40.4238823                                                                                                                                                                                   \n",
       "28079008;8;Escuelas Aguirre;Entre C/ Alcalá y C... 2366;4474770                          696;-3.6823158;40.4215533                                                                                                                                                                                   \n",
       "28079011;11;Ramón y Cajal;Avda. Ramón y Cajal  ... 0457;4478088                          595;-3.6773491;40.4514734                                                                                                                                                                                   \n",
       "28079016;16;Arturo Soria;C/ Arturo Soria  esq. ... 1729;4476796                          019;-3.6392422;40.4400457                                                                                                                                                                                   \n",
       "28079017;17;Villaverde;C/ Juan Peñalver;\"3°42'4... 7015;4466532                           455;-3.7133167;40.347147                                                                                                                                                                                   "
      ]
     },
     "execution_count": 15,
     "metadata": {},
     "output_type": "execute_result"
    }
   ],
   "source": [
    "df_estaciones = pd.read_csv('../data/estaciones.csv')\n",
    "df_estaciones.head()"
   ]
  }
 ],
 "metadata": {
  "kernelspec": {
   "display_name": "Python 3",
   "language": "python",
   "name": "python3"
  },
  "language_info": {
   "codemirror_mode": {
    "name": "ipython",
    "version": 3
   },
   "file_extension": ".py",
   "mimetype": "text/x-python",
   "name": "python",
   "nbconvert_exporter": "python",
   "pygments_lexer": "ipython3",
   "version": "3.10.11"
  },
  "orig_nbformat": 4
 },
 "nbformat": 4,
 "nbformat_minor": 2
}
